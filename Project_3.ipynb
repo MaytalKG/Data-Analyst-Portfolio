{
 "cells": [
  {
   "cell_type": "markdown",
   "id": "adb3107d-0e6d-4885-85e7-d19020021bd3",
   "metadata": {},
   "source": [
    "# Project 3 - Analyze Data with Python\n",
    "# by Maytal Koren Grodman"
   ]
  },
  {
   "cell_type": "code",
   "execution_count": 1,
   "id": "41b142b4-d729-45fb-8391-df16da2491a5",
   "metadata": {},
   "outputs": [],
   "source": [
    "import pandas as pd\n",
    "import matplotlib.pyplot as plt\n",
    "import seaborn as sb\n",
    "import yfinance as yf"
   ]
  },
  {
   "cell_type": "markdown",
   "id": "1cd63e40-280d-4d80-97c1-c3a5e1c1479b",
   "metadata": {},
   "source": [
    "# Choosing a Theme:\n",
    "On my first project in SQL I created a database in which would help me to evaluate a company's Expenses Payable.  \n",
    "Expenses Payable – \n",
    "Refers to expenses a company owes to suppliers for goods or services received but has not yet paid.\n",
    "Expenses that relate to a specific accounting period.\n",
    "These are recorded as a credit (liability) account in the accounting system\n",
    "as they reflect amounts the business still owes for the current accounting period.  \n",
    "The data was taken from an unreliable source, but it has served the purpose for Project 1.\n",
    "\n",
    "Following this direction, I wanted to further explore how current liabilities and accounts payable change between quarterly and annual reports among a publicly traded company.  \n",
    "Current liabilities are a company’s short-term financial obligations due within one year.  \n",
    "Accounts Payable refers to the amount of money a company owes to its suppliers or vendors for goods or services it has received but has not yet paid for. It is a key component of a company's current liabilities on the balance sheet.\n",
    "\n",
    "# Defining project goals and scope of research analysis:\n",
    "Analyze the trends of increase or decrease in Current Liabilities and Accounts Payable over time, from both a quarterly and annual perspective.  \n",
    "Examine whether Accounts Payable constitute a significant portion of a company's Current Liabilities over time, considering both quarterly and annual perspectives.  \n",
    "Gain insights into the company's efficiency, operational strategy, and financial stability by analyzing the percentage changes in Accounts Payable and Current Liabilities over a fiscal year.  \n",
    "Identify potential discrepancies or seasonal patterns between quarterly averages (Q1–Q4) against the corresponding figures reported in the annual financial statements.  \n",
    "Find seasonal patterns or timing differences in when Accounts Payable vs Current Liabilities are recorded or paid.\n",
    "\n",
    "# The tools and techniques utilized in this analysis include:\n",
    "Import Microsoft’s financial data. Study and become familiar with Microsoft’s financial data.  \n",
    "Process and refine the data in order to extract relevant information on changes in current liabilities and accounts payable on annual and quarterly reports. \n",
    "\n",
    "Analyze the trends of current liabilities and accounts payable across annual financial reports.  \n",
    "For Visualizations:  \n",
    "Use Matplotlib line plots to visualize trends of accounts payable and current liabilities over fiscal years.  \n",
    "Use Matplotlib Subplots with Matplotlib bar charts to visualise accounts payable and current liabilities over fiscal years, respectively.\n",
    "\n",
    "Calculate key financial metrics, such as the ratio of accounts payable to current liabilities, across annual financial reports.  \n",
    "For Visualizations:  \n",
    "Use Matplotlib Subplots with Seaborn lineplot and Matplotlib pie chart to visualise accounts payable share of current liabilities over fiscal years.\n",
    "\n",
    "Analyze the trends of current liabilities and accounts payable across quarterly financial reports.  \n",
    "For Visualizations:  \n",
    "Use Matplotlib Subplots with Matplotlib line plots and bar chart to visualize the trends of accounts payable and current liabilities over a single fiscal year, for each element separately and respectively.  \n",
    "\n",
    "Calculate the quarterly percentage changes in Accounts Payable and Current Liabilities over a single fiscal year.  \n",
    "For visualization:  \n",
    "Use Seaborn lineplots to visualize the percentage changes in Accounts Payable and Current Liabilities, respectively, throughout the fiscal year.\n",
    "\n",
    "Calculate key financial metrics, such as the ratio of accounts payable to current liabilities, across quarterly financial reports and compare them to the corresponding single fiscal year ratios.  \n",
    "For Visualizaions:  \n",
    "Use Matplotlib Subplots with Seaborn lineplots to visualize the share of Accounts Payable in Current Liabilities over a fiscal year, comparing quarterly ratios to the corresponding annual ratios.  \n",
    "\n",
    "Perform additional analyses using calculated columns, conditions (logic tests), aggregation functions, and merging DataFrames, for the purposes of filtering, defining variables and constructing new DataFrames or Series suitable for advanced analysis and visualization.\n",
    "For visualization:\n",
    "Use Seaborn pairplot to visualize the correlations between quarterly average figures throughout the fiscal year.\n",
    "Use Matplotlib Subplots with Matplotlib pie chart and Seaborn barplots to visualize annual and quarterly average ratios propotions, difference and percentage difference.\n",
    "\n",
    "Due to data limitations, I was limited to a narrow range of visualization types.  \n",
    "Unfortunately, more insightful visualizations such as pairplots, boxplots, heatmaps, or histplots could not be generated as these methods require multiple data rows and grouping to provide meaningful insights.\n",
    "\n",
    "Overall, I applied a range of data manipulation and analysis methods using Python to support advanced analytical workflows."
   ]
  },
  {
   "cell_type": "markdown",
   "id": "441e3926-0150-4dde-8a07-bb8d80382c94",
   "metadata": {},
   "source": [
    "# The biggest challenge is importing the relevant data:\n",
    "During my search for reliable financial data, I discovered the yfinance package.\n",
    "After examining the yfinance package, I concluded that it is an effective tool for achieving my project goals, though it has several limitations that I will discuss later throughout the project."
   ]
  },
  {
   "cell_type": "code",
   "execution_count": 2,
   "id": "8679c322-cdd3-48a1-b0fc-5a674919e13b",
   "metadata": {},
   "outputs": [
    {
     "data": {
      "text/plain": [
       "['AsyncWebSocket',\n",
       " 'EquityQuery',\n",
       " 'FundQuery',\n",
       " 'Industry',\n",
       " 'Lookup',\n",
       " 'Market',\n",
       " 'PREDEFINED_SCREENER_QUERIES',\n",
       " 'Search',\n",
       " 'Sector',\n",
       " 'Ticker',\n",
       " 'Tickers',\n",
       " 'WebSocket',\n",
       " 'YfData',\n",
       " '_NOTSET',\n",
       " '__all__',\n",
       " '__author__',\n",
       " '__builtins__',\n",
       " '__cached__',\n",
       " '__doc__',\n",
       " '__file__',\n",
       " '__loader__',\n",
       " '__name__',\n",
       " '__package__',\n",
       " '__path__',\n",
       " '__spec__',\n",
       " '__version__',\n",
       " 'base',\n",
       " 'cache',\n",
       " 'const',\n",
       " 'data',\n",
       " 'domain',\n",
       " 'download',\n",
       " 'enable_debug_mode',\n",
       " 'exceptions',\n",
       " 'live',\n",
       " 'lookup',\n",
       " 'multi',\n",
       " 'pricing_pb2',\n",
       " 'scrapers',\n",
       " 'screen',\n",
       " 'screener',\n",
       " 'search',\n",
       " 'set_config',\n",
       " 'set_tz_cache_location',\n",
       " 'shared',\n",
       " 'ticker',\n",
       " 'tickers',\n",
       " 'utils',\n",
       " 'version',\n",
       " 'warnings']"
      ]
     },
     "execution_count": 2,
     "metadata": {},
     "output_type": "execute_result"
    }
   ],
   "source": [
    "dir(yf)"
   ]
  },
  {
   "cell_type": "markdown",
   "id": "5be4f86a-8dbf-45d7-b446-38ce7dc899af",
   "metadata": {},
   "source": [
    "# For the research analysis, I selected Microsoft as the ticker, representing a publicly traded company.\n",
    "Microsoft is a leading global technology company with a well-established history of transparent and detailed financial reporting, \n",
    "making it an ideal candidate for examining financial trends. \n",
    "Its large scale and diverse business operations provide reliable data, allowing for meaningful insights into the behavior of \n",
    "current liabilities and accounts payable over time."
   ]
  },
  {
   "cell_type": "code",
   "execution_count": 3,
   "id": "ab95b047-b765-4df3-9430-e849745d6fcd",
   "metadata": {},
   "outputs": [],
   "source": [
    "ticker = yf.Ticker(\"MSFT\")"
   ]
  },
  {
   "cell_type": "code",
   "execution_count": 5,
   "id": "db53a953-643c-41a4-bbfe-7f09d1e25c8e",
   "metadata": {},
   "outputs": [
    {
     "data": {
      "text/plain": [
       "['__class__',\n",
       " '__delattr__',\n",
       " '__dict__',\n",
       " '__dir__',\n",
       " '__doc__',\n",
       " '__eq__',\n",
       " '__firstlineno__',\n",
       " '__format__',\n",
       " '__ge__',\n",
       " '__getattribute__',\n",
       " '__getstate__',\n",
       " '__gt__',\n",
       " '__hash__',\n",
       " '__init__',\n",
       " '__init_subclass__',\n",
       " '__le__',\n",
       " '__lt__',\n",
       " '__module__',\n",
       " '__ne__',\n",
       " '__new__',\n",
       " '__reduce__',\n",
       " '__reduce_ex__',\n",
       " '__repr__',\n",
       " '__setattr__',\n",
       " '__sizeof__',\n",
       " '__static_attributes__',\n",
       " '__str__',\n",
       " '__subclasshook__',\n",
       " '__weakref__',\n",
       " '_analysis',\n",
       " '_data',\n",
       " '_download_options',\n",
       " '_earnings',\n",
       " '_earnings_dates',\n",
       " '_expirations',\n",
       " '_fast_info',\n",
       " '_fetch_ticker_tz',\n",
       " '_financials',\n",
       " '_fundamentals',\n",
       " '_funds_data',\n",
       " '_get_earnings_dates_using_scrape',\n",
       " '_get_earnings_dates_using_screener',\n",
       " '_get_ticker_tz',\n",
       " '_holders',\n",
       " '_isin',\n",
       " '_lazy_load_price_history',\n",
       " '_message_handler',\n",
       " '_news',\n",
       " '_options2df',\n",
       " '_price_history',\n",
       " '_quote',\n",
       " '_shares',\n",
       " '_tz',\n",
       " '_underlying',\n",
       " 'actions',\n",
       " 'analyst_price_targets',\n",
       " 'balance_sheet',\n",
       " 'balancesheet',\n",
       " 'calendar',\n",
       " 'capital_gains',\n",
       " 'cash_flow',\n",
       " 'cashflow',\n",
       " 'dividends',\n",
       " 'earnings',\n",
       " 'earnings_dates',\n",
       " 'earnings_estimate',\n",
       " 'earnings_history',\n",
       " 'eps_revisions',\n",
       " 'eps_trend',\n",
       " 'fast_info',\n",
       " 'financials',\n",
       " 'funds_data',\n",
       " 'get_actions',\n",
       " 'get_analyst_price_targets',\n",
       " 'get_balance_sheet',\n",
       " 'get_balancesheet',\n",
       " 'get_calendar',\n",
       " 'get_capital_gains',\n",
       " 'get_cash_flow',\n",
       " 'get_cashflow',\n",
       " 'get_dividends',\n",
       " 'get_earnings',\n",
       " 'get_earnings_dates',\n",
       " 'get_earnings_estimate',\n",
       " 'get_earnings_history',\n",
       " 'get_eps_revisions',\n",
       " 'get_eps_trend',\n",
       " 'get_fast_info',\n",
       " 'get_financials',\n",
       " 'get_funds_data',\n",
       " 'get_growth_estimates',\n",
       " 'get_history_metadata',\n",
       " 'get_income_stmt',\n",
       " 'get_incomestmt',\n",
       " 'get_info',\n",
       " 'get_insider_purchases',\n",
       " 'get_insider_roster_holders',\n",
       " 'get_insider_transactions',\n",
       " 'get_institutional_holders',\n",
       " 'get_isin',\n",
       " 'get_major_holders',\n",
       " 'get_mutualfund_holders',\n",
       " 'get_news',\n",
       " 'get_recommendations',\n",
       " 'get_recommendations_summary',\n",
       " 'get_revenue_estimate',\n",
       " 'get_sec_filings',\n",
       " 'get_shares',\n",
       " 'get_shares_full',\n",
       " 'get_splits',\n",
       " 'get_sustainability',\n",
       " 'get_upgrades_downgrades',\n",
       " 'growth_estimates',\n",
       " 'history',\n",
       " 'history_metadata',\n",
       " 'income_stmt',\n",
       " 'incomestmt',\n",
       " 'info',\n",
       " 'insider_purchases',\n",
       " 'insider_roster_holders',\n",
       " 'insider_transactions',\n",
       " 'institutional_holders',\n",
       " 'isin',\n",
       " 'live',\n",
       " 'major_holders',\n",
       " 'mutualfund_holders',\n",
       " 'news',\n",
       " 'option_chain',\n",
       " 'options',\n",
       " 'quarterly_balance_sheet',\n",
       " 'quarterly_balancesheet',\n",
       " 'quarterly_cash_flow',\n",
       " 'quarterly_cashflow',\n",
       " 'quarterly_earnings',\n",
       " 'quarterly_financials',\n",
       " 'quarterly_income_stmt',\n",
       " 'quarterly_incomestmt',\n",
       " 'recommendations',\n",
       " 'recommendations_summary',\n",
       " 'revenue_estimate',\n",
       " 'sec_filings',\n",
       " 'session',\n",
       " 'shares',\n",
       " 'splits',\n",
       " 'sustainability',\n",
       " 'ticker',\n",
       " 'ttm_cash_flow',\n",
       " 'ttm_cashflow',\n",
       " 'ttm_financials',\n",
       " 'ttm_income_stmt',\n",
       " 'ttm_incomestmt',\n",
       " 'upgrades_downgrades',\n",
       " 'ws']"
      ]
     },
     "execution_count": 5,
     "metadata": {},
     "output_type": "execute_result"
    }
   ],
   "source": [
    "dir(ticker)"
   ]
  },
  {
   "cell_type": "markdown",
   "id": "053a4b6c-109c-4737-8e38-7fb1aaac3e1f",
   "metadata": {},
   "source": [
    "# I have learned that both the annual and quarterly balance sheets contain the necessary data to track Current Liabilities and Accounts Payable \n",
    "For both quarterly and annual perspectives, the available number of years and quarters are limited, which will require me to make adjustments in the research analysis and is expected to affect the final conclusions."
   ]
  },
  {
   "cell_type": "code",
   "execution_count": 6,
   "id": "f120ca7e-9a7a-4f45-bd28-0b9262e57b8c",
   "metadata": {},
   "outputs": [],
   "source": [
    "balance_sheet_annual=ticker.balance_sheet\n",
    "balance_sheet_quarterly = ticker.quarterly_balance_sheet"
   ]
  },
  {
   "cell_type": "code",
   "execution_count": 7,
   "id": "ad664e9b-def5-4dfd-9da5-f6d261e35bf9",
   "metadata": {},
   "outputs": [
    {
     "data": {
      "text/plain": [
       "Index(['Ordinary Shares Number', 'Share Issued', 'Net Debt', 'Total Debt',\n",
       "       'Tangible Book Value', 'Invested Capital', 'Working Capital',\n",
       "       'Net Tangible Assets', 'Capital Lease Obligations',\n",
       "       'Common Stock Equity', 'Total Capitalization',\n",
       "       'Total Equity Gross Minority Interest', 'Stockholders Equity',\n",
       "       'Gains Losses Not Affecting Retained Earnings',\n",
       "       'Other Equity Adjustments', 'Retained Earnings', 'Capital Stock',\n",
       "       'Common Stock', 'Total Liabilities Net Minority Interest',\n",
       "       'Total Non Current Liabilities Net Minority Interest',\n",
       "       'Other Non Current Liabilities', 'Tradeand Other Payables Non Current',\n",
       "       'Non Current Deferred Liabilities', 'Non Current Deferred Revenue',\n",
       "       'Non Current Deferred Taxes Liabilities',\n",
       "       'Long Term Debt And Capital Lease Obligation',\n",
       "       'Long Term Capital Lease Obligation', 'Long Term Debt',\n",
       "       'Current Liabilities', 'Other Current Liabilities',\n",
       "       'Current Deferred Liabilities', 'Current Deferred Revenue',\n",
       "       'Current Debt And Capital Lease Obligation', 'Current Debt',\n",
       "       'Other Current Borrowings', 'Commercial Paper',\n",
       "       'Pensionand Other Post Retirement Benefit Plans Current',\n",
       "       'Payables And Accrued Expenses', 'Payables', 'Total Tax Payable',\n",
       "       'Income Tax Payable', 'Accounts Payable', 'Total Assets',\n",
       "       'Total Non Current Assets', 'Other Non Current Assets',\n",
       "       'Financial Assets', 'Investments And Advances',\n",
       "       'Investmentin Financial Assets', 'Available For Sale Securities',\n",
       "       'Long Term Equity Investment', 'Goodwill And Other Intangible Assets',\n",
       "       'Other Intangible Assets', 'Goodwill', 'Net PPE',\n",
       "       'Accumulated Depreciation', 'Gross PPE', 'Leases', 'Other Properties',\n",
       "       'Machinery Furniture Equipment', 'Buildings And Improvements',\n",
       "       'Land And Improvements', 'Properties', 'Current Assets',\n",
       "       'Other Current Assets', 'Hedging Assets Current', 'Inventory',\n",
       "       'Finished Goods', 'Work In Process', 'Raw Materials', 'Receivables',\n",
       "       'Accounts Receivable', 'Allowance For Doubtful Accounts Receivable',\n",
       "       'Gross Accounts Receivable',\n",
       "       'Cash Cash Equivalents And Short Term Investments',\n",
       "       'Other Short Term Investments', 'Cash And Cash Equivalents',\n",
       "       'Cash Equivalents', 'Cash Financial'],\n",
       "      dtype='object')"
      ]
     },
     "execution_count": 7,
     "metadata": {},
     "output_type": "execute_result"
    }
   ],
   "source": [
    "balance_sheet_annual.index"
   ]
  },
  {
   "cell_type": "code",
   "execution_count": 8,
   "id": "31a50d04-1ef6-49fe-a1cf-572621a99d8f",
   "metadata": {},
   "outputs": [
    {
     "data": {
      "text/plain": [
       "Index(['Ordinary Shares Number', 'Share Issued', 'Net Debt', 'Total Debt',\n",
       "       'Tangible Book Value', 'Invested Capital', 'Working Capital',\n",
       "       'Net Tangible Assets', 'Capital Lease Obligations',\n",
       "       'Common Stock Equity', 'Total Capitalization',\n",
       "       'Total Equity Gross Minority Interest', 'Stockholders Equity',\n",
       "       'Gains Losses Not Affecting Retained Earnings',\n",
       "       'Other Equity Adjustments', 'Retained Earnings', 'Capital Stock',\n",
       "       'Common Stock', 'Total Liabilities Net Minority Interest',\n",
       "       'Total Non Current Liabilities Net Minority Interest',\n",
       "       'Other Non Current Liabilities', 'Tradeand Other Payables Non Current',\n",
       "       'Non Current Deferred Liabilities', 'Non Current Deferred Revenue',\n",
       "       'Non Current Deferred Taxes Liabilities',\n",
       "       'Long Term Debt And Capital Lease Obligation',\n",
       "       'Long Term Capital Lease Obligation', 'Long Term Debt',\n",
       "       'Current Liabilities', 'Other Current Liabilities',\n",
       "       'Current Deferred Liabilities', 'Current Deferred Revenue',\n",
       "       'Current Debt And Capital Lease Obligation', 'Current Debt',\n",
       "       'Other Current Borrowings', 'Commercial Paper',\n",
       "       'Pensionand Other Post Retirement Benefit Plans Current',\n",
       "       'Payables And Accrued Expenses', 'Payables', 'Total Tax Payable',\n",
       "       'Income Tax Payable', 'Accounts Payable', 'Total Assets',\n",
       "       'Total Non Current Assets', 'Other Non Current Assets',\n",
       "       'Financial Assets', 'Investments And Advances',\n",
       "       'Investmentin Financial Assets', 'Available For Sale Securities',\n",
       "       'Long Term Equity Investment', 'Goodwill And Other Intangible Assets',\n",
       "       'Other Intangible Assets', 'Goodwill', 'Net PPE',\n",
       "       'Accumulated Depreciation', 'Gross PPE', 'Leases', 'Other Properties',\n",
       "       'Machinery Furniture Equipment', 'Buildings And Improvements',\n",
       "       'Land And Improvements', 'Properties', 'Current Assets',\n",
       "       'Other Current Assets', 'Hedging Assets Current', 'Inventory',\n",
       "       'Finished Goods', 'Work In Process', 'Raw Materials', 'Receivables',\n",
       "       'Accounts Receivable', 'Allowance For Doubtful Accounts Receivable',\n",
       "       'Gross Accounts Receivable',\n",
       "       'Cash Cash Equivalents And Short Term Investments',\n",
       "       'Other Short Term Investments', 'Cash And Cash Equivalents',\n",
       "       'Cash Equivalents', 'Cash Financial'],\n",
       "      dtype='object')"
      ]
     },
     "execution_count": 8,
     "metadata": {},
     "output_type": "execute_result"
    }
   ],
   "source": [
    "balance_sheet_quarterly.index"
   ]
  },
  {
   "cell_type": "markdown",
   "id": "6aece94b-8c45-42f2-be6c-1ebafa9d6ca3",
   "metadata": {},
   "source": [
    "# Starting with the annual balance sheet, \n",
    "\n",
    "# I observed that the dataframe contains an extensive amount of information, requiring me to filter and adjust the data to align with the focus of the research analysis.\n",
    "\n",
    "# The reporting period runs from June through June (=fiscal year)"
   ]
  },
  {
   "cell_type": "code",
   "execution_count": 9,
   "id": "8a41bbbc-c5e3-4cc9-be12-5f577bb43092",
   "metadata": {},
   "outputs": [
    {
     "name": "stdout",
     "output_type": "stream",
     "text": [
      "<class 'pandas.core.frame.DataFrame'>\n",
      "Index: 78 entries, Ordinary Shares Number to Cash Financial\n",
      "Data columns (total 5 columns):\n",
      " #   Column               Non-Null Count  Dtype  \n",
      "---  ------               --------------  -----  \n",
      " 0   2025-06-30 00:00:00  75 non-null     float64\n",
      " 1   2024-06-30 00:00:00  78 non-null     float64\n",
      " 2   2023-06-30 00:00:00  77 non-null     float64\n",
      " 3   2022-06-30 00:00:00  75 non-null     float64\n",
      " 4   2021-06-30 00:00:00  3 non-null      float64\n",
      "dtypes: float64(5)\n",
      "memory usage: 3.7+ KB\n"
     ]
    }
   ],
   "source": [
    "balance_sheet_annual.info()"
   ]
  },
  {
   "cell_type": "markdown",
   "id": "c593a80c-7612-4e7f-ae3b-a685356e2856",
   "metadata": {},
   "source": [
    "# I have identified that the date datatype is in float format, and I will need to convert it later."
   ]
  },
  {
   "cell_type": "code",
   "execution_count": 10,
   "id": "e1950c40-1aab-4484-ab03-344581d07a8f",
   "metadata": {},
   "outputs": [
    {
     "data": {
      "text/html": [
       "<div>\n",
       "<style scoped>\n",
       "    .dataframe tbody tr th:only-of-type {\n",
       "        vertical-align: middle;\n",
       "    }\n",
       "\n",
       "    .dataframe tbody tr th {\n",
       "        vertical-align: top;\n",
       "    }\n",
       "\n",
       "    .dataframe thead th {\n",
       "        text-align: right;\n",
       "    }\n",
       "</style>\n",
       "<table border=\"1\" class=\"dataframe\">\n",
       "  <thead>\n",
       "    <tr style=\"text-align: right;\">\n",
       "      <th></th>\n",
       "      <th>2025-06-30</th>\n",
       "      <th>2024-06-30</th>\n",
       "      <th>2023-06-30</th>\n",
       "      <th>2022-06-30</th>\n",
       "      <th>2021-06-30</th>\n",
       "    </tr>\n",
       "  </thead>\n",
       "  <tbody>\n",
       "    <tr>\n",
       "      <th>count</th>\n",
       "      <td>7.500000e+01</td>\n",
       "      <td>7.800000e+01</td>\n",
       "      <td>7.700000e+01</td>\n",
       "      <td>7.500000e+01</td>\n",
       "      <td>3.000000e+00</td>\n",
       "    </tr>\n",
       "    <tr>\n",
       "      <th>mean</th>\n",
       "      <td>8.907020e+10</td>\n",
       "      <td>6.964014e+10</td>\n",
       "      <td>5.837095e+10</td>\n",
       "      <td>5.243783e+10</td>\n",
       "      <td>8.786667e+08</td>\n",
       "    </tr>\n",
       "    <tr>\n",
       "      <th>std</th>\n",
       "      <td>1.290989e+11</td>\n",
       "      <td>1.020969e+11</td>\n",
       "      <td>8.096838e+10</td>\n",
       "      <td>7.045549e+10</td>\n",
       "      <td>6.981635e+08</td>\n",
       "    </tr>\n",
       "    <tr>\n",
       "      <th>min</th>\n",
       "      <td>-9.365300e+10</td>\n",
       "      <td>-7.642100e+10</td>\n",
       "      <td>-6.825100e+10</td>\n",
       "      <td>-5.966000e+10</td>\n",
       "      <td>7.900000e+07</td>\n",
       "    </tr>\n",
       "    <tr>\n",
       "      <th>25%</th>\n",
       "      <td>7.322500e+09</td>\n",
       "      <td>6.705750e+09</td>\n",
       "      <td>5.247000e+09</td>\n",
       "      <td>4.400500e+09</td>\n",
       "      <td>6.345000e+08</td>\n",
       "    </tr>\n",
       "    <tr>\n",
       "      <th>50%</th>\n",
       "      <td>3.024200e+10</td>\n",
       "      <td>2.701300e+10</td>\n",
       "      <td>2.224700e+10</td>\n",
       "      <td>2.189700e+10</td>\n",
       "      <td>1.190000e+09</td>\n",
       "    </tr>\n",
       "    <tr>\n",
       "      <th>75%</th>\n",
       "      <td>1.269075e+11</td>\n",
       "      <td>1.007702e+11</td>\n",
       "      <td>8.120700e+10</td>\n",
       "      <td>8.561000e+10</td>\n",
       "      <td>1.278500e+09</td>\n",
       "    </tr>\n",
       "    <tr>\n",
       "      <th>max</th>\n",
       "      <td>6.190030e+11</td>\n",
       "      <td>5.121630e+11</td>\n",
       "      <td>4.119760e+11</td>\n",
       "      <td>3.648400e+11</td>\n",
       "      <td>1.367000e+09</td>\n",
       "    </tr>\n",
       "  </tbody>\n",
       "</table>\n",
       "</div>"
      ],
      "text/plain": [
       "         2025-06-30    2024-06-30    2023-06-30    2022-06-30    2021-06-30\n",
       "count  7.500000e+01  7.800000e+01  7.700000e+01  7.500000e+01  3.000000e+00\n",
       "mean   8.907020e+10  6.964014e+10  5.837095e+10  5.243783e+10  8.786667e+08\n",
       "std    1.290989e+11  1.020969e+11  8.096838e+10  7.045549e+10  6.981635e+08\n",
       "min   -9.365300e+10 -7.642100e+10 -6.825100e+10 -5.966000e+10  7.900000e+07\n",
       "25%    7.322500e+09  6.705750e+09  5.247000e+09  4.400500e+09  6.345000e+08\n",
       "50%    3.024200e+10  2.701300e+10  2.224700e+10  2.189700e+10  1.190000e+09\n",
       "75%    1.269075e+11  1.007702e+11  8.120700e+10  8.561000e+10  1.278500e+09\n",
       "max    6.190030e+11  5.121630e+11  4.119760e+11  3.648400e+11  1.367000e+09"
      ]
     },
     "execution_count": 10,
     "metadata": {},
     "output_type": "execute_result"
    }
   ],
   "source": [
    "balance_sheet_annual.describe()"
   ]
  },
  {
   "cell_type": "code",
   "execution_count": 11,
   "id": "2c1de6e8-f5cb-4726-b63b-79a0c6acdf41",
   "metadata": {},
   "outputs": [
    {
     "data": {
      "text/html": [
       "<div>\n",
       "<style scoped>\n",
       "    .dataframe tbody tr th:only-of-type {\n",
       "        vertical-align: middle;\n",
       "    }\n",
       "\n",
       "    .dataframe tbody tr th {\n",
       "        vertical-align: top;\n",
       "    }\n",
       "\n",
       "    .dataframe thead th {\n",
       "        text-align: right;\n",
       "    }\n",
       "</style>\n",
       "<table border=\"1\" class=\"dataframe\">\n",
       "  <thead>\n",
       "    <tr style=\"text-align: right;\">\n",
       "      <th></th>\n",
       "      <th>2025-06-30</th>\n",
       "      <th>2024-06-30</th>\n",
       "      <th>2023-06-30</th>\n",
       "      <th>2022-06-30</th>\n",
       "      <th>2021-06-30</th>\n",
       "    </tr>\n",
       "  </thead>\n",
       "  <tbody>\n",
       "    <tr>\n",
       "      <th>Ordinary Shares Number</th>\n",
       "      <td>7.434000e+09</td>\n",
       "      <td>7.434139e+09</td>\n",
       "      <td>7.432000e+09</td>\n",
       "      <td>7.464000e+09</td>\n",
       "      <td>NaN</td>\n",
       "    </tr>\n",
       "    <tr>\n",
       "      <th>Share Issued</th>\n",
       "      <td>7.434000e+09</td>\n",
       "      <td>7.434139e+09</td>\n",
       "      <td>7.432000e+09</td>\n",
       "      <td>7.464000e+09</td>\n",
       "      <td>NaN</td>\n",
       "    </tr>\n",
       "    <tr>\n",
       "      <th>Net Debt</th>\n",
       "      <td>1.290900e+10</td>\n",
       "      <td>3.331500e+10</td>\n",
       "      <td>1.253300e+10</td>\n",
       "      <td>3.585000e+10</td>\n",
       "      <td>NaN</td>\n",
       "    </tr>\n",
       "    <tr>\n",
       "      <th>Total Debt</th>\n",
       "      <td>6.058800e+10</td>\n",
       "      <td>6.712700e+10</td>\n",
       "      <td>5.996500e+10</td>\n",
       "      <td>6.127000e+10</td>\n",
       "      <td>NaN</td>\n",
       "    </tr>\n",
       "    <tr>\n",
       "      <th>Tangible Book Value</th>\n",
       "      <td>2.013660e+11</td>\n",
       "      <td>1.216600e+11</td>\n",
       "      <td>1.289710e+11</td>\n",
       "      <td>8.772000e+10</td>\n",
       "      <td>NaN</td>\n",
       "    </tr>\n",
       "  </tbody>\n",
       "</table>\n",
       "</div>"
      ],
      "text/plain": [
       "                          2025-06-30    2024-06-30    2023-06-30  \\\n",
       "Ordinary Shares Number  7.434000e+09  7.434139e+09  7.432000e+09   \n",
       "Share Issued            7.434000e+09  7.434139e+09  7.432000e+09   \n",
       "Net Debt                1.290900e+10  3.331500e+10  1.253300e+10   \n",
       "Total Debt              6.058800e+10  6.712700e+10  5.996500e+10   \n",
       "Tangible Book Value     2.013660e+11  1.216600e+11  1.289710e+11   \n",
       "\n",
       "                          2022-06-30  2021-06-30  \n",
       "Ordinary Shares Number  7.464000e+09         NaN  \n",
       "Share Issued            7.464000e+09         NaN  \n",
       "Net Debt                3.585000e+10         NaN  \n",
       "Total Debt              6.127000e+10         NaN  \n",
       "Tangible Book Value     8.772000e+10         NaN  "
      ]
     },
     "execution_count": 11,
     "metadata": {},
     "output_type": "execute_result"
    }
   ],
   "source": [
    "balance_sheet_annual.head()"
   ]
  },
  {
   "cell_type": "markdown",
   "id": "c32a32be-33e5-4604-808c-64da0fcf897b",
   "metadata": {},
   "source": [
    "# I have chosen to focus on the Accounts Payable and Current Liabilities data within the dataframe:"
   ]
  },
  {
   "cell_type": "code",
   "execution_count": 12,
   "id": "26dfa252-dfa5-4351-8411-3757eb50c51e",
   "metadata": {},
   "outputs": [],
   "source": [
    "accounts_payable_annual = balance_sheet_annual.loc['Accounts Payable']"
   ]
  },
  {
   "cell_type": "code",
   "execution_count": 13,
   "id": "fc60af91-fe2b-44ba-8faa-eef3e04e34f9",
   "metadata": {},
   "outputs": [
    {
     "data": {
      "text/plain": [
       "2025-06-30    2.772400e+10\n",
       "2024-06-30    2.199600e+10\n",
       "2023-06-30    1.809500e+10\n",
       "2022-06-30    1.900000e+10\n",
       "2021-06-30             NaN\n",
       "Name: Accounts Payable, dtype: float64"
      ]
     },
     "execution_count": 13,
     "metadata": {},
     "output_type": "execute_result"
    }
   ],
   "source": [
    "accounts_payable_annual"
   ]
  },
  {
   "cell_type": "code",
   "execution_count": 14,
   "id": "5e2eda94-97ab-4298-953a-6187f6cb120d",
   "metadata": {},
   "outputs": [],
   "source": [
    "current_liabilities_annual = balance_sheet_annual.loc['Current Liabilities']"
   ]
  },
  {
   "cell_type": "code",
   "execution_count": 15,
   "id": "80d8e45d-9506-4f72-860c-19a2ec114de2",
   "metadata": {},
   "outputs": [
    {
     "data": {
      "text/plain": [
       "2025-06-30    1.412180e+11\n",
       "2024-06-30    1.252860e+11\n",
       "2023-06-30    1.041490e+11\n",
       "2022-06-30    9.508200e+10\n",
       "2021-06-30             NaN\n",
       "Name: Current Liabilities, dtype: float64"
      ]
     },
     "execution_count": 15,
     "metadata": {},
     "output_type": "execute_result"
    }
   ],
   "source": [
    "current_liabilities_annual"
   ]
  },
  {
   "cell_type": "markdown",
   "id": "016ae46d-54b2-4098-b384-26de5b825fe6",
   "metadata": {},
   "source": [
    "# As a result, I constructed a new DataFrame accordingly:"
   ]
  },
  {
   "cell_type": "code",
   "execution_count": 16,
   "id": "dc0d2e4a-2774-431e-bc7d-e11c10128e90",
   "metadata": {},
   "outputs": [],
   "source": [
    "rows_to_select=['Accounts Payable','Current Liabilities']"
   ]
  },
  {
   "cell_type": "code",
   "execution_count": 17,
   "id": "25f7d7d9-8465-4dec-946f-6896496edfca",
   "metadata": {},
   "outputs": [],
   "source": [
    "new_annual_balance_sheet=balance_sheet_annual.loc[rows_to_select]"
   ]
  },
  {
   "cell_type": "code",
   "execution_count": 18,
   "id": "6c3cfccb-de35-42fa-a9bd-bd6564832bcf",
   "metadata": {},
   "outputs": [
    {
     "data": {
      "text/html": [
       "<div>\n",
       "<style scoped>\n",
       "    .dataframe tbody tr th:only-of-type {\n",
       "        vertical-align: middle;\n",
       "    }\n",
       "\n",
       "    .dataframe tbody tr th {\n",
       "        vertical-align: top;\n",
       "    }\n",
       "\n",
       "    .dataframe thead th {\n",
       "        text-align: right;\n",
       "    }\n",
       "</style>\n",
       "<table border=\"1\" class=\"dataframe\">\n",
       "  <thead>\n",
       "    <tr style=\"text-align: right;\">\n",
       "      <th></th>\n",
       "      <th>2025-06-30</th>\n",
       "      <th>2024-06-30</th>\n",
       "      <th>2023-06-30</th>\n",
       "      <th>2022-06-30</th>\n",
       "      <th>2021-06-30</th>\n",
       "    </tr>\n",
       "  </thead>\n",
       "  <tbody>\n",
       "    <tr>\n",
       "      <th>Accounts Payable</th>\n",
       "      <td>2.772400e+10</td>\n",
       "      <td>2.199600e+10</td>\n",
       "      <td>1.809500e+10</td>\n",
       "      <td>1.900000e+10</td>\n",
       "      <td>NaN</td>\n",
       "    </tr>\n",
       "    <tr>\n",
       "      <th>Current Liabilities</th>\n",
       "      <td>1.412180e+11</td>\n",
       "      <td>1.252860e+11</td>\n",
       "      <td>1.041490e+11</td>\n",
       "      <td>9.508200e+10</td>\n",
       "      <td>NaN</td>\n",
       "    </tr>\n",
       "  </tbody>\n",
       "</table>\n",
       "</div>"
      ],
      "text/plain": [
       "                       2025-06-30    2024-06-30    2023-06-30    2022-06-30  \\\n",
       "Accounts Payable     2.772400e+10  2.199600e+10  1.809500e+10  1.900000e+10   \n",
       "Current Liabilities  1.412180e+11  1.252860e+11  1.041490e+11  9.508200e+10   \n",
       "\n",
       "                     2021-06-30  \n",
       "Accounts Payable            NaN  \n",
       "Current Liabilities         NaN  "
      ]
     },
     "execution_count": 18,
     "metadata": {},
     "output_type": "execute_result"
    }
   ],
   "source": [
    "new_annual_balance_sheet"
   ]
  },
  {
   "cell_type": "markdown",
   "id": "4b724440-7602-46e4-b850-1246342b169f",
   "metadata": {},
   "source": [
    "# In terms of data presentation, I chose to switch the data orientation to display rows instead of columns:"
   ]
  },
  {
   "cell_type": "code",
   "execution_count": 19,
   "id": "702e9344-1477-4b8f-b2a9-b5346e21fc58",
   "metadata": {},
   "outputs": [],
   "source": [
    "new_annual_balance_sheet_transposed=new_annual_balance_sheet.T"
   ]
  },
  {
   "cell_type": "code",
   "execution_count": 20,
   "id": "fc8235ae-adcc-4e1c-ab54-2a0e1466e6cd",
   "metadata": {},
   "outputs": [
    {
     "data": {
      "text/html": [
       "<div>\n",
       "<style scoped>\n",
       "    .dataframe tbody tr th:only-of-type {\n",
       "        vertical-align: middle;\n",
       "    }\n",
       "\n",
       "    .dataframe tbody tr th {\n",
       "        vertical-align: top;\n",
       "    }\n",
       "\n",
       "    .dataframe thead th {\n",
       "        text-align: right;\n",
       "    }\n",
       "</style>\n",
       "<table border=\"1\" class=\"dataframe\">\n",
       "  <thead>\n",
       "    <tr style=\"text-align: right;\">\n",
       "      <th></th>\n",
       "      <th>Accounts Payable</th>\n",
       "      <th>Current Liabilities</th>\n",
       "    </tr>\n",
       "  </thead>\n",
       "  <tbody>\n",
       "    <tr>\n",
       "      <th>2025-06-30</th>\n",
       "      <td>2.772400e+10</td>\n",
       "      <td>1.412180e+11</td>\n",
       "    </tr>\n",
       "    <tr>\n",
       "      <th>2024-06-30</th>\n",
       "      <td>2.199600e+10</td>\n",
       "      <td>1.252860e+11</td>\n",
       "    </tr>\n",
       "    <tr>\n",
       "      <th>2023-06-30</th>\n",
       "      <td>1.809500e+10</td>\n",
       "      <td>1.041490e+11</td>\n",
       "    </tr>\n",
       "    <tr>\n",
       "      <th>2022-06-30</th>\n",
       "      <td>1.900000e+10</td>\n",
       "      <td>9.508200e+10</td>\n",
       "    </tr>\n",
       "    <tr>\n",
       "      <th>2021-06-30</th>\n",
       "      <td>NaN</td>\n",
       "      <td>NaN</td>\n",
       "    </tr>\n",
       "  </tbody>\n",
       "</table>\n",
       "</div>"
      ],
      "text/plain": [
       "            Accounts Payable  Current Liabilities\n",
       "2025-06-30      2.772400e+10         1.412180e+11\n",
       "2024-06-30      2.199600e+10         1.252860e+11\n",
       "2023-06-30      1.809500e+10         1.041490e+11\n",
       "2022-06-30      1.900000e+10         9.508200e+10\n",
       "2021-06-30               NaN                  NaN"
      ]
     },
     "execution_count": 20,
     "metadata": {},
     "output_type": "execute_result"
    }
   ],
   "source": [
    "new_annual_balance_sheet_transposed"
   ]
  },
  {
   "cell_type": "markdown",
   "id": "21a9c099-fea5-4039-a4bc-54e6b8bd0f32",
   "metadata": {},
   "source": [
    "# I have identified the row corresponding to the date 30-Jun-2021 contains null values, which will need to be cleaned."
   ]
  },
  {
   "cell_type": "markdown",
   "id": "10ede651-35a5-42a2-bde8-8396b32228cb",
   "metadata": {},
   "source": [
    "# Converting the date datatype to datetime:"
   ]
  },
  {
   "cell_type": "code",
   "execution_count": 21,
   "id": "6952711d-c70e-4ca7-99e5-27abac254014",
   "metadata": {},
   "outputs": [],
   "source": [
    "new_annual_balance_sheet_transposed.index=pd.to_datetime(new_annual_balance_sheet_transposed.index,yearfirst=True)"
   ]
  },
  {
   "cell_type": "code",
   "execution_count": 22,
   "id": "8c7808b0-ee39-441c-ab74-563bac448c95",
   "metadata": {},
   "outputs": [
    {
     "data": {
      "text/plain": [
       "pandas._libs.tslibs.timestamps.Timestamp"
      ]
     },
     "execution_count": 22,
     "metadata": {},
     "output_type": "execute_result"
    }
   ],
   "source": [
    "type(new_annual_balance_sheet_transposed.index[0])"
   ]
  },
  {
   "cell_type": "markdown",
   "id": "bceb3fdf-5a26-4ff3-9f1d-c59e0b800781",
   "metadata": {},
   "source": [
    "# Removing the row corresponding to 30-Jun-2021, as it contains null values:"
   ]
  },
  {
   "cell_type": "code",
   "execution_count": 23,
   "id": "77b1cfca-5ac7-4f52-b1e2-9a7238222a23",
   "metadata": {},
   "outputs": [],
   "source": [
    "new_annual_balance_sheet_transposed.drop(\"30-06-2021\",inplace=True)"
   ]
  },
  {
   "cell_type": "code",
   "execution_count": 24,
   "id": "e428c3c0-e859-4ecb-8c43-6860869b5b68",
   "metadata": {},
   "outputs": [
    {
     "data": {
      "text/html": [
       "<div>\n",
       "<style scoped>\n",
       "    .dataframe tbody tr th:only-of-type {\n",
       "        vertical-align: middle;\n",
       "    }\n",
       "\n",
       "    .dataframe tbody tr th {\n",
       "        vertical-align: top;\n",
       "    }\n",
       "\n",
       "    .dataframe thead th {\n",
       "        text-align: right;\n",
       "    }\n",
       "</style>\n",
       "<table border=\"1\" class=\"dataframe\">\n",
       "  <thead>\n",
       "    <tr style=\"text-align: right;\">\n",
       "      <th></th>\n",
       "      <th>Accounts Payable</th>\n",
       "      <th>Current Liabilities</th>\n",
       "    </tr>\n",
       "  </thead>\n",
       "  <tbody>\n",
       "    <tr>\n",
       "      <th>2025-06-30</th>\n",
       "      <td>2.772400e+10</td>\n",
       "      <td>1.412180e+11</td>\n",
       "    </tr>\n",
       "    <tr>\n",
       "      <th>2024-06-30</th>\n",
       "      <td>2.199600e+10</td>\n",
       "      <td>1.252860e+11</td>\n",
       "    </tr>\n",
       "    <tr>\n",
       "      <th>2023-06-30</th>\n",
       "      <td>1.809500e+10</td>\n",
       "      <td>1.041490e+11</td>\n",
       "    </tr>\n",
       "    <tr>\n",
       "      <th>2022-06-30</th>\n",
       "      <td>1.900000e+10</td>\n",
       "      <td>9.508200e+10</td>\n",
       "    </tr>\n",
       "  </tbody>\n",
       "</table>\n",
       "</div>"
      ],
      "text/plain": [
       "            Accounts Payable  Current Liabilities\n",
       "2025-06-30      2.772400e+10         1.412180e+11\n",
       "2024-06-30      2.199600e+10         1.252860e+11\n",
       "2023-06-30      1.809500e+10         1.041490e+11\n",
       "2022-06-30      1.900000e+10         9.508200e+10"
      ]
     },
     "execution_count": 24,
     "metadata": {},
     "output_type": "execute_result"
    }
   ],
   "source": [
    "new_annual_balance_sheet_transposed"
   ]
  },
  {
   "cell_type": "code",
   "execution_count": 25,
   "id": "59dd0fab-b124-4d3a-a5e9-837c50fa651d",
   "metadata": {},
   "outputs": [
    {
     "name": "stdout",
     "output_type": "stream",
     "text": [
      "<class 'pandas.core.frame.DataFrame'>\n",
      "DatetimeIndex: 4 entries, 2025-06-30 to 2022-06-30\n",
      "Data columns (total 2 columns):\n",
      " #   Column               Non-Null Count  Dtype  \n",
      "---  ------               --------------  -----  \n",
      " 0   Accounts Payable     4 non-null      float64\n",
      " 1   Current Liabilities  4 non-null      float64\n",
      "dtypes: float64(2)\n",
      "memory usage: 96.0 bytes\n"
     ]
    }
   ],
   "source": [
    "new_annual_balance_sheet_transposed.info()"
   ]
  },
  {
   "cell_type": "code",
   "execution_count": 26,
   "id": "867d42d5-2121-49d1-97d1-2f4157e59d7a",
   "metadata": {},
   "outputs": [
    {
     "data": {
      "text/html": [
       "<div>\n",
       "<style scoped>\n",
       "    .dataframe tbody tr th:only-of-type {\n",
       "        vertical-align: middle;\n",
       "    }\n",
       "\n",
       "    .dataframe tbody tr th {\n",
       "        vertical-align: top;\n",
       "    }\n",
       "\n",
       "    .dataframe thead th {\n",
       "        text-align: right;\n",
       "    }\n",
       "</style>\n",
       "<table border=\"1\" class=\"dataframe\">\n",
       "  <thead>\n",
       "    <tr style=\"text-align: right;\">\n",
       "      <th></th>\n",
       "      <th>Accounts Payable</th>\n",
       "      <th>Current Liabilities</th>\n",
       "    </tr>\n",
       "  </thead>\n",
       "  <tbody>\n",
       "    <tr>\n",
       "      <th>count</th>\n",
       "      <td>4.000000e+00</td>\n",
       "      <td>4.000000e+00</td>\n",
       "    </tr>\n",
       "    <tr>\n",
       "      <th>mean</th>\n",
       "      <td>2.170375e+10</td>\n",
       "      <td>1.164338e+11</td>\n",
       "    </tr>\n",
       "    <tr>\n",
       "      <th>std</th>\n",
       "      <td>4.345962e+09</td>\n",
       "      <td>2.081213e+10</td>\n",
       "    </tr>\n",
       "    <tr>\n",
       "      <th>min</th>\n",
       "      <td>1.809500e+10</td>\n",
       "      <td>9.508200e+10</td>\n",
       "    </tr>\n",
       "    <tr>\n",
       "      <th>25%</th>\n",
       "      <td>1.877375e+10</td>\n",
       "      <td>1.018822e+11</td>\n",
       "    </tr>\n",
       "    <tr>\n",
       "      <th>50%</th>\n",
       "      <td>2.049800e+10</td>\n",
       "      <td>1.147175e+11</td>\n",
       "    </tr>\n",
       "    <tr>\n",
       "      <th>75%</th>\n",
       "      <td>2.342800e+10</td>\n",
       "      <td>1.292690e+11</td>\n",
       "    </tr>\n",
       "    <tr>\n",
       "      <th>max</th>\n",
       "      <td>2.772400e+10</td>\n",
       "      <td>1.412180e+11</td>\n",
       "    </tr>\n",
       "  </tbody>\n",
       "</table>\n",
       "</div>"
      ],
      "text/plain": [
       "       Accounts Payable  Current Liabilities\n",
       "count      4.000000e+00         4.000000e+00\n",
       "mean       2.170375e+10         1.164338e+11\n",
       "std        4.345962e+09         2.081213e+10\n",
       "min        1.809500e+10         9.508200e+10\n",
       "25%        1.877375e+10         1.018822e+11\n",
       "50%        2.049800e+10         1.147175e+11\n",
       "75%        2.342800e+10         1.292690e+11\n",
       "max        2.772400e+10         1.412180e+11"
      ]
     },
     "execution_count": 26,
     "metadata": {},
     "output_type": "execute_result"
    }
   ],
   "source": [
    "new_annual_balance_sheet_transposed.describe()"
   ]
  },
  {
   "cell_type": "markdown",
   "id": "0c3b092d-5aa9-4afe-beaf-758019a44943",
   "metadata": {},
   "source": [
    "# I feel confident that I have a strong starting point for analyzing Current Liabilities and Accounts Payable trends throughout the annual financial balance sheet.  \n",
    "The mean and median (50%) values are relatively close in both cases, suggesting that the data is relatively symmetrical and not significantly influenced by outliers.  \n",
    "The range (max - min) gives a sense of spread - Though, Current Liabilities shows a much wider variation.  \n",
    "So does the standard deviation (std) shows more variability in Current Liabilities than in Accounts Payable - This makes sense since Current Liabilities includes a broader set of financial obligations and typically involve larger amounts.  \n",
    "The range between the 75th and 25th percentiles is relatively narrow, especially for Accounts Payable, suggesting low variation in the values and indicating stable payables over time.\n",
    "This consistency enhances the reliability of these metrics for analysis and comparison."
   ]
  },
  {
   "cell_type": "markdown",
   "id": "5247c2d2-f2a3-47dc-a56b-f4536c41f049",
   "metadata": {},
   "source": [
    "# Visualizations of Accounts Payable and Current Liabilities trends over fiscal years:"
   ]
  },
  {
   "cell_type": "code",
   "execution_count": 27,
   "id": "3d3c3b03-d23d-45d1-b85e-b8601691bbaf",
   "metadata": {},
   "outputs": [],
   "source": [
    "x=new_annual_balance_sheet_transposed.index\n",
    "y1=new_annual_balance_sheet_transposed['Accounts Payable']\n",
    "y2=new_annual_balance_sheet_transposed['Current Liabilities']\n",
    "mask=y1/y2*100"
   ]
  },
  {
   "cell_type": "code",
   "execution_count": 28,
   "id": "41aec3e2-bab3-4212-b09f-5c7a2220d2c0",
   "metadata": {},
   "outputs": [
    {
     "name": "stdout",
     "output_type": "stream",
     "text": [
      "DatetimeIndex(['2025-06-30', '2024-06-30', '2023-06-30', '2022-06-30'], dtype='datetime64[ns]', freq=None)\n"
     ]
    }
   ],
   "source": [
    "print(x)"
   ]
  },
  {
   "cell_type": "code",
   "execution_count": 29,
   "id": "9241a856-f8f3-460f-b410-82595aad4d71",
   "metadata": {},
   "outputs": [
    {
     "data": {
      "image/png": "[encoded data removed]",
      "text/plain": [
       "<Figure size 480x480 with 1 Axes>"
      ]
     },
     "metadata": {},
     "output_type": "display_data"
    }
   ],
   "source": [
    "plt.figure(figsize=(6,6),dpi=80)\n",
    "plt.style.use('seaborn-v0_8')\n",
    "plt.plot(x,y1,color='#134686',lw=6,ls='-',marker='o',ms=15,mfc='#48B3AF',label='Accounts Payable')\n",
    "plt.plot(x,y2,color='#ED3F27',lw=6,linestyle='--', marker='*',ms=20,mfc='#FEB21A',label='Current Liabilities')\n",
    "plt.title('Accounts Payable and Current Liabilities 06/2022-06/2025', fontsize=15,color='#476EAE')\n",
    "plt.xlabel('Fiscal Year',fontsize=15,color='#476EAE')\n",
    "plt.xticks(['2025-06-30', '2024-06-30', '2023-06-30', '2022-06-30'],labels=['Jun-2025','Jun-2024','Jun-2023','Jun-2022'],fontsize=13,color='#476EAE')\n",
    "plt.ylabel('Amount (in Billions)',fontsize=15,color='#476EAE')\n",
    "plt.legend(labelcolor='#476EAE')\n",
    "plt.tight_layout()\n",
    "plt.show()"
   ]
  },
  {
   "cell_type": "markdown",
   "id": "cc235312-084e-4add-a77a-6e7cf4c0283a",
   "metadata": {},
   "source": [
    "# The analysis of year-over-year data reveals that both Accounts Payable and Current Liabilities have shown a consistent increase over time."
   ]
  },
  {
   "cell_type": "markdown",
   "id": "eb6c9404-cc29-41a3-a902-7338f401c345",
   "metadata": {},
   "source": [
    "# Close Trends Observations:"
   ]
  },
  {
   "cell_type": "code",
   "execution_count": 30,
   "id": "ddc5d0da-58a4-467d-a28d-bfe6281e9726",
   "metadata": {},
   "outputs": [
    {
     "data": {
      "image/png": "[encoded data removed]",
      "text/plain": [
       "<Figure size 1200x800 with 3 Axes>"
      ]
     },
     "metadata": {},
     "output_type": "display_data"
    }
   ],
   "source": [
    "plt.figure(figsize=(12,8))\n",
    "plt.style.use('seaborn-v0_8')\n",
    "plt.suptitle('Trends Observations', fontsize=20)\n",
    "\n",
    "plt.subplot(2,3,1)\n",
    "plt.bar(x,y1,color='#134686',width=60)\n",
    "plt.title('Accounts Payable (Note: 1e10)',fontsize=13)\n",
    "plt.xlabel('Fiscal Year',fontsize=15)\n",
    "plt.xticks(['2025-06-30','2024-06-30','2023-06-30','2022-06-30'],labels=['Jun-2025','Jun-2024','Jun-2023','Jun-2022'],rotation=45)\n",
    "plt.ylabel('Amount (in Billions)',fontsize=13)\n",
    "plt.ylim(0,3.5e10)\n",
    "\n",
    "plt.subplot(2,3,2)\n",
    "plt.bar(x,y2,color='#ED3F27',width=60)\n",
    "plt.title('Current Liabilities (Note: 1e11)',fontsize=13)\n",
    "plt.xlabel('Fiscal Year',fontsize=15)\n",
    "plt.xticks(['2025-06-30','2024-06-30','2023-06-30','2022-06-30'],labels=['Jun-2025','Jun-2024','Jun-2023','Jun-2022'],rotation=45)\n",
    "plt.ylabel('Amount (in Billions)',fontsize=13)\n",
    "plt.ylim(0,1.6e11)\n",
    "\n",
    "plt.subplot(2,3,3)\n",
    "plt.bar(x,y1, width=80,color='#134686',align='edge',label='Accounts Payable')\n",
    "plt.bar(x,y2, width=60,color='#ED3F27',align='center',label='Current Liabilities')\n",
    "plt.title('Accounts Payable, a component of Current Liabilities',fontsize=13)\n",
    "for i,j in zip(mask.index,mask):\n",
    "    plt.annotate(f'{j:.2f}%',xy=(i,j+4e10),ha='left',color='#134686',fontweight='bold',size=10)\n",
    "plt.xlabel('Fiscal Year',fontsize=15)\n",
    "plt.xticks(x,labels=['Jun-2025','Jun-2024','Jun-2023','Jun-2022'],rotation=45)\n",
    "plt.ylabel('Amount (in Billions)',fontsize=13)\n",
    "plt.ylim(0,1.6e11)\n",
    "\n",
    "plt.legend()\n",
    "plt.tight_layout()\n",
    "plt.show()"
   ]
  },
  {
   "cell_type": "markdown",
   "id": "643a9370-ded7-44bf-a3d3-c25fee892b4d",
   "metadata": {},
   "source": [
    "# The closer observation reveals:\n",
    "A consistent increase over time, although a slight decrease in Accounts Payable is observed from 2022 to 2023.  \n",
    "Accounts Payable remaining a relatively consistent share of overall short-term liabilities.  \n",
    "The proportion remained in the range of ~17% to 20%.  "
   ]
  },
  {
   "cell_type": "markdown",
   "id": "b3abc8ab-87b8-469f-b0f4-45ea080d5384",
   "metadata": {},
   "source": [
    "# Adding a new column to compute the ratio between Accounts Payable and Current Liabilities\n",
    "The ratio helps indicate the proportion of Accounts Payable in relation to Current Liabilities.  \n",
    "A lower ratio value (between 0 and 1) indicates that accounts payable represent a smaller share of current liabilities, suggesting the company has other significant short-term obligations."
   ]
  },
  {
   "cell_type": "code",
   "execution_count": 31,
   "id": "293f24a2-9f12-4595-99fa-2efe27be0937",
   "metadata": {},
   "outputs": [],
   "source": [
    "new_annual_balance_sheet_transposed['Ratio_Annual'] = (new_annual_balance_sheet_transposed['Accounts Payable'] / \n",
    "new_annual_balance_sheet_transposed['Current Liabilities'])"
   ]
  },
  {
   "cell_type": "code",
   "execution_count": 32,
   "id": "2aa08dab-9ecb-4de2-8947-a1689b63e6db",
   "metadata": {},
   "outputs": [
    {
     "data": {
      "text/html": [
       "<div>\n",
       "<style scoped>\n",
       "    .dataframe tbody tr th:only-of-type {\n",
       "        vertical-align: middle;\n",
       "    }\n",
       "\n",
       "    .dataframe tbody tr th {\n",
       "        vertical-align: top;\n",
       "    }\n",
       "\n",
       "    .dataframe thead th {\n",
       "        text-align: right;\n",
       "    }\n",
       "</style>\n",
       "<table border=\"1\" class=\"dataframe\">\n",
       "  <thead>\n",
       "    <tr style=\"text-align: right;\">\n",
       "      <th></th>\n",
       "      <th>Accounts Payable</th>\n",
       "      <th>Current Liabilities</th>\n",
       "      <th>Ratio_Annual</th>\n",
       "    </tr>\n",
       "  </thead>\n",
       "  <tbody>\n",
       "    <tr>\n",
       "      <th>2025-06-30</th>\n",
       "      <td>2.772400e+10</td>\n",
       "      <td>1.412180e+11</td>\n",
       "      <td>0.196321</td>\n",
       "    </tr>\n",
       "    <tr>\n",
       "      <th>2024-06-30</th>\n",
       "      <td>2.199600e+10</td>\n",
       "      <td>1.252860e+11</td>\n",
       "      <td>0.175566</td>\n",
       "    </tr>\n",
       "    <tr>\n",
       "      <th>2023-06-30</th>\n",
       "      <td>1.809500e+10</td>\n",
       "      <td>1.041490e+11</td>\n",
       "      <td>0.173741</td>\n",
       "    </tr>\n",
       "    <tr>\n",
       "      <th>2022-06-30</th>\n",
       "      <td>1.900000e+10</td>\n",
       "      <td>9.508200e+10</td>\n",
       "      <td>0.199828</td>\n",
       "    </tr>\n",
       "  </tbody>\n",
       "</table>\n",
       "</div>"
      ],
      "text/plain": [
       "            Accounts Payable  Current Liabilities  Ratio_Annual\n",
       "2025-06-30      2.772400e+10         1.412180e+11      0.196321\n",
       "2024-06-30      2.199600e+10         1.252860e+11      0.175566\n",
       "2023-06-30      1.809500e+10         1.041490e+11      0.173741\n",
       "2022-06-30      1.900000e+10         9.508200e+10      0.199828"
      ]
     },
     "execution_count": 32,
     "metadata": {},
     "output_type": "execute_result"
    }
   ],
   "source": [
    "new_annual_balance_sheet_transposed"
   ]
  },
  {
   "cell_type": "markdown",
   "id": "f390c012-8d9e-4cae-9b0f-80f42e9825ea",
   "metadata": {},
   "source": [
    "# Creating a Series from the new_annual_balance_sheet_transposed DataFrame to visualize the annual ratio as a pie chart in Matplotlib:"
   ]
  },
  {
   "cell_type": "code",
   "execution_count": 33,
   "id": "ff7326ff-55f8-48d3-9691-4d8d80ab1a8a",
   "metadata": {},
   "outputs": [],
   "source": [
    "Ratio_Annual_Series=new_annual_balance_sheet_transposed.Ratio_Annual"
   ]
  },
  {
   "cell_type": "markdown",
   "id": "674e9ced-2314-4ac4-be43-06e43c9d6e47",
   "metadata": {},
   "source": [
    "# Adding new columns to display the minimum and maximum range for the Accounts Payable and Current Liabilities Ratio:"
   ]
  },
  {
   "cell_type": "code",
   "execution_count": 34,
   "id": "9fd945db-bef1-4d05-b388-e80aa40d1205",
   "metadata": {},
   "outputs": [],
   "source": [
    "new_annual_balance_sheet_transposed['Max']=new_annual_balance_sheet_transposed['Ratio_Annual'].max()\n",
    "new_annual_balance_sheet_transposed['Min']=new_annual_balance_sheet_transposed['Ratio_Annual'].min()  "
   ]
  },
  {
   "cell_type": "markdown",
   "id": "5d8f46f7-b165-4389-9688-ac7b6ca2fe78",
   "metadata": {},
   "source": [
    "# Creating a new DataFrame by resetting the index, converting the current index into a regular column, and renaming it from \"index\" to \"Year\":"
   ]
  },
  {
   "cell_type": "code",
   "execution_count": 35,
   "id": "c7a78659-eed3-422b-abe5-03bb3c186a27",
   "metadata": {},
   "outputs": [],
   "source": [
    "Ratio_Annual_df=new_annual_balance_sheet_transposed.reset_index().rename(columns={'index': 'Year'})"
   ]
  },
  {
   "cell_type": "code",
   "execution_count": 36,
   "id": "1798aa2c-a278-40f2-a042-676bef9c871f",
   "metadata": {},
   "outputs": [
    {
     "data": {
      "text/html": [
       "<div>\n",
       "<style scoped>\n",
       "    .dataframe tbody tr th:only-of-type {\n",
       "        vertical-align: middle;\n",
       "    }\n",
       "\n",
       "    .dataframe tbody tr th {\n",
       "        vertical-align: top;\n",
       "    }\n",
       "\n",
       "    .dataframe thead th {\n",
       "        text-align: right;\n",
       "    }\n",
       "</style>\n",
       "<table border=\"1\" class=\"dataframe\">\n",
       "  <thead>\n",
       "    <tr style=\"text-align: right;\">\n",
       "      <th></th>\n",
       "      <th>Year</th>\n",
       "      <th>Accounts Payable</th>\n",
       "      <th>Current Liabilities</th>\n",
       "      <th>Ratio_Annual</th>\n",
       "      <th>Max</th>\n",
       "      <th>Min</th>\n",
       "    </tr>\n",
       "  </thead>\n",
       "  <tbody>\n",
       "    <tr>\n",
       "      <th>0</th>\n",
       "      <td>2025-06-30</td>\n",
       "      <td>2.772400e+10</td>\n",
       "      <td>1.412180e+11</td>\n",
       "      <td>0.196321</td>\n",
       "      <td>0.199828</td>\n",
       "      <td>0.173741</td>\n",
       "    </tr>\n",
       "    <tr>\n",
       "      <th>1</th>\n",
       "      <td>2024-06-30</td>\n",
       "      <td>2.199600e+10</td>\n",
       "      <td>1.252860e+11</td>\n",
       "      <td>0.175566</td>\n",
       "      <td>0.199828</td>\n",
       "      <td>0.173741</td>\n",
       "    </tr>\n",
       "    <tr>\n",
       "      <th>2</th>\n",
       "      <td>2023-06-30</td>\n",
       "      <td>1.809500e+10</td>\n",
       "      <td>1.041490e+11</td>\n",
       "      <td>0.173741</td>\n",
       "      <td>0.199828</td>\n",
       "      <td>0.173741</td>\n",
       "    </tr>\n",
       "    <tr>\n",
       "      <th>3</th>\n",
       "      <td>2022-06-30</td>\n",
       "      <td>1.900000e+10</td>\n",
       "      <td>9.508200e+10</td>\n",
       "      <td>0.199828</td>\n",
       "      <td>0.199828</td>\n",
       "      <td>0.173741</td>\n",
       "    </tr>\n",
       "  </tbody>\n",
       "</table>\n",
       "</div>"
      ],
      "text/plain": [
       "        Year  Accounts Payable  Current Liabilities  Ratio_Annual       Max  \\\n",
       "0 2025-06-30      2.772400e+10         1.412180e+11      0.196321  0.199828   \n",
       "1 2024-06-30      2.199600e+10         1.252860e+11      0.175566  0.199828   \n",
       "2 2023-06-30      1.809500e+10         1.041490e+11      0.173741  0.199828   \n",
       "3 2022-06-30      1.900000e+10         9.508200e+10      0.199828  0.199828   \n",
       "\n",
       "        Min  \n",
       "0  0.173741  \n",
       "1  0.173741  \n",
       "2  0.173741  \n",
       "3  0.173741  "
      ]
     },
     "execution_count": 36,
     "metadata": {},
     "output_type": "execute_result"
    }
   ],
   "source": [
    "Ratio_Annual_df"
   ]
  },
  {
   "cell_type": "markdown",
   "id": "f0817509-3924-4581-8aea-07dded1c1a61",
   "metadata": {},
   "source": [
    "# Visualizations of Accounts Payable share of Current Liabilities over fiscal years:"
   ]
  },
  {
   "cell_type": "code",
   "execution_count": 37,
   "id": "3e625aee-b162-47d7-8d8e-9081cc762859",
   "metadata": {},
   "outputs": [
    {
     "data": {
      "image/png": "[encoded data removed]",
      "text/plain": [
       "<Figure size 1000x500 with 2 Axes>"
      ]
     },
     "metadata": {},
     "output_type": "display_data"
    }
   ],
   "source": [
    "plt.figure(figsize=(10,5))\n",
    "plt.style.use('seaborn-v0_8')\n",
    "plt.suptitle('Accounts Payable to Current Liabilities Ratio',fontsize=15,color='#476EAE')\n",
    "\n",
    "plt.subplot(1,2,1)\n",
    "plt.title('Annual Ratio Over Fiscal Years',fontsize=13)\n",
    "sb.lineplot(data=Ratio_Annual_df,x='Year',y='Ratio_Annual',lw=4,marker='>',ms=8,label='Annual Ratio')\n",
    "sb.lineplot(data=Ratio_Annual_df,x='Year',y='Max', color='#48B3AF',linestyle='--',lw=1.5,label='Max Annual Ratio')\n",
    "sb.lineplot(data=Ratio_Annual_df,x='Year',y='Min', color='#48B3AF',linestyle='--',lw=1.5,label='Min Annual Ratio')\n",
    "plt.xlabel('Fiscal Year',fontsize=15,color='#6E8CFB')\n",
    "plt.xticks(['2025-06-30', '2024-06-30', '2023-06-30', '2022-06-30'],labels=['Jun-2025','Jun-2024','Jun-2023','Jun-2022'],rotation=45,color='#6E8CFB')\n",
    "plt.ylabel('Ratio (Accounts Payable / Current Liabilities)', fontsize=12,color='#6E8CFB')\n",
    "plt.ylim(0.1,0.25) \n",
    "plt.legend()\n",
    "\n",
    "plt.subplot(1,2,2)\n",
    "plt.title('Annual Ratio Breakdown',fontsize=13)\n",
    "plt.pie(Ratio_Annual_Series,labels=['Jun-2025','Jun-2024','Jun-2023','Jun-2022'],autopct='%1.1f%%',colors=['#78B9B5','#0F828C','#065084','#50589C'])\n",
    "plt.axis('equal')\n",
    "\n",
    "plt.tight_layout()\n",
    "plt.show()"
   ]
  },
  {
   "cell_type": "markdown",
   "id": "7d258c74-0d0c-46ad-95a2-69e665cf4c4c",
   "metadata": {},
   "source": [
    "# The Annual Ratio has stayed within a relatively narrow range of ~17% to 20%:  \n",
    "2022 → 2023: Decrease from 0.1998 to 0.1737 - The ratio dropped significantly in 2023.  \n",
    "2023 → 2024: Slight increase from 0.1737 to 0.1756 - A small recovery after the 2023 drop.  \n",
    "2024 → 2025: Increase from 0.1756 to 0.1963 - The ratio rebounded strongly in 2025.  \n",
    "# Pie Chart - Illustrates a relatively consistent proportion of Accounts Payable within total Current Liabilities over the four-year period from 2022 to 2025.  "
   ]
  },
  {
   "cell_type": "markdown",
   "id": "5cc5b6b2-5e18-42df-a470-cf1477afa37d",
   "metadata": {},
   "source": [
    "# Initial conclusions based on the annual trends we examined:\n",
    "These trends suggest financial consistency and indicate that while liabilities are increasing, the structure of Accounts Payable obligations remains fairly balanced respectively to other significant short-term obligations. \n",
    "The decline in the annual ratio in 2023 (to approximately 17.4%) suggests the company had more diversified short-term obligations during that period. The absolute figures from the DataFrame reveal a decline in Accounts Payable balances accompanied by a corresponding increase in other Current Liabilities components.  \n",
    "The recovery in the annual ratio in 2025 (up to ~19.6%) indicates that Accounts Payable once again represent a larger share of Current Liabilities.\n",
    "Overall, the ratio's moderate and stable values reflect a company that manages its Current Liabilities with diversity and relative consistency, without becoming overly reliant on Accounts Payable as a source of short-term financing."
   ]
  },
  {
   "cell_type": "markdown",
   "id": "c3fdee7a-1a6e-44f9-98f4-40eab110cdef",
   "metadata": {},
   "source": [
    "# Moving on to the quarterly balance sheet,\n",
    "\n",
    "# The same cleaning and preprocessing procedures will be applied as in the annual analysis to ensure datasets consistency and alignment.\n",
    "\n",
    "# Data will be aligned with our annual dataset, where the fiscal year begins in June and ends the following June."
   ]
  },
  {
   "cell_type": "code",
   "execution_count": 38,
   "id": "f1522304-c348-4756-a073-2685bbaa5d01",
   "metadata": {},
   "outputs": [
    {
     "name": "stdout",
     "output_type": "stream",
     "text": [
      "<class 'pandas.core.frame.DataFrame'>\n",
      "Index: 78 entries, Ordinary Shares Number to Cash Financial\n",
      "Data columns (total 6 columns):\n",
      " #   Column               Non-Null Count  Dtype  \n",
      "---  ------               --------------  -----  \n",
      " 0   2025-06-30 00:00:00  75 non-null     float64\n",
      " 1   2025-03-31 00:00:00  73 non-null     float64\n",
      " 2   2024-12-31 00:00:00  73 non-null     float64\n",
      " 3   2024-09-30 00:00:00  73 non-null     float64\n",
      " 4   2024-06-30 00:00:00  78 non-null     float64\n",
      " 5   2024-03-31 00:00:00  3 non-null      float64\n",
      "dtypes: float64(6)\n",
      "memory usage: 4.3+ KB\n"
     ]
    }
   ],
   "source": [
    "balance_sheet_quarterly.info()"
   ]
  },
  {
   "cell_type": "code",
   "execution_count": 39,
   "id": "031a3560-5c7d-4853-bacc-e94b44423b6c",
   "metadata": {},
   "outputs": [
    {
     "data": {
      "text/html": [
       "<div>\n",
       "<style scoped>\n",
       "    .dataframe tbody tr th:only-of-type {\n",
       "        vertical-align: middle;\n",
       "    }\n",
       "\n",
       "    .dataframe tbody tr th {\n",
       "        vertical-align: top;\n",
       "    }\n",
       "\n",
       "    .dataframe thead th {\n",
       "        text-align: right;\n",
       "    }\n",
       "</style>\n",
       "<table border=\"1\" class=\"dataframe\">\n",
       "  <thead>\n",
       "    <tr style=\"text-align: right;\">\n",
       "      <th></th>\n",
       "      <th>2025-06-30</th>\n",
       "      <th>2025-03-31</th>\n",
       "      <th>2024-12-31</th>\n",
       "      <th>2024-09-30</th>\n",
       "      <th>2024-06-30</th>\n",
       "      <th>2024-03-31</th>\n",
       "    </tr>\n",
       "  </thead>\n",
       "  <tbody>\n",
       "    <tr>\n",
       "      <th>count</th>\n",
       "      <td>7.500000e+01</td>\n",
       "      <td>7.300000e+01</td>\n",
       "      <td>7.300000e+01</td>\n",
       "      <td>7.300000e+01</td>\n",
       "      <td>7.800000e+01</td>\n",
       "      <td>3.000000e+00</td>\n",
       "    </tr>\n",
       "    <tr>\n",
       "      <th>mean</th>\n",
       "      <td>8.907020e+10</td>\n",
       "      <td>8.352760e+10</td>\n",
       "      <td>7.895990e+10</td>\n",
       "      <td>7.670566e+10</td>\n",
       "      <td>6.964014e+10</td>\n",
       "      <td>4.346667e+08</td>\n",
       "    </tr>\n",
       "    <tr>\n",
       "      <th>std</th>\n",
       "      <td>1.290989e+11</td>\n",
       "      <td>1.233925e+11</td>\n",
       "      <td>1.162831e+11</td>\n",
       "      <td>1.115961e+11</td>\n",
       "      <td>1.020969e+11</td>\n",
       "      <td>4.764560e+08</td>\n",
       "    </tr>\n",
       "    <tr>\n",
       "      <th>min</th>\n",
       "      <td>-9.365300e+10</td>\n",
       "      <td>-8.707400e+10</td>\n",
       "      <td>-8.282000e+10</td>\n",
       "      <td>-8.051700e+10</td>\n",
       "      <td>-7.642100e+10</td>\n",
       "      <td>1.200000e+07</td>\n",
       "    </tr>\n",
       "    <tr>\n",
       "      <th>25%</th>\n",
       "      <td>7.322500e+09</td>\n",
       "      <td>5.362000e+09</td>\n",
       "      <td>5.248000e+09</td>\n",
       "      <td>5.244000e+09</td>\n",
       "      <td>6.705750e+09</td>\n",
       "      <td>1.765000e+08</td>\n",
       "    </tr>\n",
       "    <tr>\n",
       "      <th>50%</th>\n",
       "      <td>3.024200e+10</td>\n",
       "      <td>2.882800e+10</td>\n",
       "      <td>2.748800e+10</td>\n",
       "      <td>2.675100e+10</td>\n",
       "      <td>2.701300e+10</td>\n",
       "      <td>3.410000e+08</td>\n",
       "    </tr>\n",
       "    <tr>\n",
       "      <th>75%</th>\n",
       "      <td>1.269075e+11</td>\n",
       "      <td>1.142060e+11</td>\n",
       "      <td>1.088820e+11</td>\n",
       "      <td>1.152000e+11</td>\n",
       "      <td>1.007702e+11</td>\n",
       "      <td>6.460000e+08</td>\n",
       "    </tr>\n",
       "    <tr>\n",
       "      <th>max</th>\n",
       "      <td>6.190030e+11</td>\n",
       "      <td>5.626240e+11</td>\n",
       "      <td>5.338980e+11</td>\n",
       "      <td>5.230130e+11</td>\n",
       "      <td>5.121630e+11</td>\n",
       "      <td>9.510000e+08</td>\n",
       "    </tr>\n",
       "  </tbody>\n",
       "</table>\n",
       "</div>"
      ],
      "text/plain": [
       "         2025-06-30    2025-03-31    2024-12-31    2024-09-30    2024-06-30  \\\n",
       "count  7.500000e+01  7.300000e+01  7.300000e+01  7.300000e+01  7.800000e+01   \n",
       "mean   8.907020e+10  8.352760e+10  7.895990e+10  7.670566e+10  6.964014e+10   \n",
       "std    1.290989e+11  1.233925e+11  1.162831e+11  1.115961e+11  1.020969e+11   \n",
       "min   -9.365300e+10 -8.707400e+10 -8.282000e+10 -8.051700e+10 -7.642100e+10   \n",
       "25%    7.322500e+09  5.362000e+09  5.248000e+09  5.244000e+09  6.705750e+09   \n",
       "50%    3.024200e+10  2.882800e+10  2.748800e+10  2.675100e+10  2.701300e+10   \n",
       "75%    1.269075e+11  1.142060e+11  1.088820e+11  1.152000e+11  1.007702e+11   \n",
       "max    6.190030e+11  5.626240e+11  5.338980e+11  5.230130e+11  5.121630e+11   \n",
       "\n",
       "         2024-03-31  \n",
       "count  3.000000e+00  \n",
       "mean   4.346667e+08  \n",
       "std    4.764560e+08  \n",
       "min    1.200000e+07  \n",
       "25%    1.765000e+08  \n",
       "50%    3.410000e+08  \n",
       "75%    6.460000e+08  \n",
       "max    9.510000e+08  "
      ]
     },
     "execution_count": 39,
     "metadata": {},
     "output_type": "execute_result"
    }
   ],
   "source": [
    "balance_sheet_quarterly.describe()"
   ]
  },
  {
   "cell_type": "code",
   "execution_count": 40,
   "id": "a3358967-e7a8-43d4-9db8-67bf18f33818",
   "metadata": {},
   "outputs": [
    {
     "data": {
      "text/html": [
       "<div>\n",
       "<style scoped>\n",
       "    .dataframe tbody tr th:only-of-type {\n",
       "        vertical-align: middle;\n",
       "    }\n",
       "\n",
       "    .dataframe tbody tr th {\n",
       "        vertical-align: top;\n",
       "    }\n",
       "\n",
       "    .dataframe thead th {\n",
       "        text-align: right;\n",
       "    }\n",
       "</style>\n",
       "<table border=\"1\" class=\"dataframe\">\n",
       "  <thead>\n",
       "    <tr style=\"text-align: right;\">\n",
       "      <th></th>\n",
       "      <th>2025-06-30</th>\n",
       "      <th>2025-03-31</th>\n",
       "      <th>2024-12-31</th>\n",
       "      <th>2024-09-30</th>\n",
       "      <th>2024-06-30</th>\n",
       "      <th>2024-03-31</th>\n",
       "    </tr>\n",
       "  </thead>\n",
       "  <tbody>\n",
       "    <tr>\n",
       "      <th>Ordinary Shares Number</th>\n",
       "      <td>7.434000e+09</td>\n",
       "      <td>7.433982e+09</td>\n",
       "      <td>7.435257e+09</td>\n",
       "      <td>7.436000e+09</td>\n",
       "      <td>7.434139e+09</td>\n",
       "      <td>NaN</td>\n",
       "    </tr>\n",
       "    <tr>\n",
       "      <th>Share Issued</th>\n",
       "      <td>7.434000e+09</td>\n",
       "      <td>7.433982e+09</td>\n",
       "      <td>7.435257e+09</td>\n",
       "      <td>7.436000e+09</td>\n",
       "      <td>7.434139e+09</td>\n",
       "      <td>NaN</td>\n",
       "    </tr>\n",
       "    <tr>\n",
       "      <th>Net Debt</th>\n",
       "      <td>1.290900e+10</td>\n",
       "      <td>1.405300e+10</td>\n",
       "      <td>2.748800e+10</td>\n",
       "      <td>2.427700e+10</td>\n",
       "      <td>3.331500e+10</td>\n",
       "      <td>NaN</td>\n",
       "    </tr>\n",
       "    <tr>\n",
       "      <th>Total Debt</th>\n",
       "      <td>6.058800e+10</td>\n",
       "      <td>6.056700e+10</td>\n",
       "      <td>6.222400e+10</td>\n",
       "      <td>6.147800e+10</td>\n",
       "      <td>6.712700e+10</td>\n",
       "      <td>NaN</td>\n",
       "    </tr>\n",
       "    <tr>\n",
       "      <th>Tangible Book Value</th>\n",
       "      <td>2.013660e+11</td>\n",
       "      <td>1.785940e+11</td>\n",
       "      <td>1.581190e+11</td>\n",
       "      <td>1.415980e+11</td>\n",
       "      <td>1.216600e+11</td>\n",
       "      <td>NaN</td>\n",
       "    </tr>\n",
       "  </tbody>\n",
       "</table>\n",
       "</div>"
      ],
      "text/plain": [
       "                          2025-06-30    2025-03-31    2024-12-31  \\\n",
       "Ordinary Shares Number  7.434000e+09  7.433982e+09  7.435257e+09   \n",
       "Share Issued            7.434000e+09  7.433982e+09  7.435257e+09   \n",
       "Net Debt                1.290900e+10  1.405300e+10  2.748800e+10   \n",
       "Total Debt              6.058800e+10  6.056700e+10  6.222400e+10   \n",
       "Tangible Book Value     2.013660e+11  1.785940e+11  1.581190e+11   \n",
       "\n",
       "                          2024-09-30    2024-06-30  2024-03-31  \n",
       "Ordinary Shares Number  7.436000e+09  7.434139e+09         NaN  \n",
       "Share Issued            7.436000e+09  7.434139e+09         NaN  \n",
       "Net Debt                2.427700e+10  3.331500e+10         NaN  \n",
       "Total Debt              6.147800e+10  6.712700e+10         NaN  \n",
       "Tangible Book Value     1.415980e+11  1.216600e+11         NaN  "
      ]
     },
     "execution_count": 40,
     "metadata": {},
     "output_type": "execute_result"
    }
   ],
   "source": [
    "balance_sheet_quarterly.head()"
   ]
  },
  {
   "cell_type": "code",
   "execution_count": 41,
   "id": "9b3a3edd-40ef-4378-a3cb-f00db5bd4e6d",
   "metadata": {},
   "outputs": [],
   "source": [
    "accounts_payable_quarterly=balance_sheet_quarterly.loc['Accounts Payable']"
   ]
  },
  {
   "cell_type": "code",
   "execution_count": 42,
   "id": "f0e8916b-c2c6-488c-b985-47315b3789c4",
   "metadata": {},
   "outputs": [
    {
     "data": {
      "text/plain": [
       "2025-06-30    2.772400e+10\n",
       "2025-03-31    2.625000e+10\n",
       "2024-12-31    2.260800e+10\n",
       "2024-09-30    2.276800e+10\n",
       "2024-06-30    2.199600e+10\n",
       "2024-03-31             NaN\n",
       "Name: Accounts Payable, dtype: float64"
      ]
     },
     "execution_count": 42,
     "metadata": {},
     "output_type": "execute_result"
    }
   ],
   "source": [
    "accounts_payable_quarterly"
   ]
  },
  {
   "cell_type": "code",
   "execution_count": 43,
   "id": "7e1fc809-a850-4b0a-bad2-a1bc6953d2fd",
   "metadata": {},
   "outputs": [],
   "source": [
    "current_liabilities_quarterly=balance_sheet_quarterly.loc['Current Liabilities']"
   ]
  },
  {
   "cell_type": "code",
   "execution_count": 44,
   "id": "8d8103f1-aa89-41c4-b774-94ec8438d9c5",
   "metadata": {},
   "outputs": [
    {
     "data": {
      "text/plain": [
       "2025-06-30    1.412180e+11\n",
       "2025-03-31    1.142060e+11\n",
       "2024-12-31    1.088820e+11\n",
       "2024-09-30    1.152000e+11\n",
       "2024-06-30    1.252860e+11\n",
       "2024-03-31             NaN\n",
       "Name: Current Liabilities, dtype: float64"
      ]
     },
     "execution_count": 44,
     "metadata": {},
     "output_type": "execute_result"
    }
   ],
   "source": [
    "current_liabilities_quarterly"
   ]
  },
  {
   "cell_type": "markdown",
   "id": "3dc867c8-9346-46eb-917b-175a206b5352",
   "metadata": {},
   "source": [
    "# Cleaning and preprocessing procedures:\n",
    "Create a new DataFrame that focuses on Accounts Payable and Current Liabilities.  \n",
    "Transpose the DataFrame to convert columns into rows.  \n",
    "Convert the date index to datetime format.  \n",
    "Filter the 31-Mar-2024 row to exclude null values.  "
   ]
  },
  {
   "cell_type": "code",
   "execution_count": 45,
   "id": "b8dca0dd-1738-4cf9-b41a-70a3301f4a2b",
   "metadata": {},
   "outputs": [],
   "source": [
    "rows_to_select=['Accounts Payable','Current Liabilities']\n",
    "new_quarterly_balance_sheet=balance_sheet_quarterly.loc[rows_to_select]"
   ]
  },
  {
   "cell_type": "code",
   "execution_count": 46,
   "id": "556ac65f-4355-428a-b84d-e893c4acdc3e",
   "metadata": {},
   "outputs": [
    {
     "data": {
      "text/html": [
       "<div>\n",
       "<style scoped>\n",
       "    .dataframe tbody tr th:only-of-type {\n",
       "        vertical-align: middle;\n",
       "    }\n",
       "\n",
       "    .dataframe tbody tr th {\n",
       "        vertical-align: top;\n",
       "    }\n",
       "\n",
       "    .dataframe thead th {\n",
       "        text-align: right;\n",
       "    }\n",
       "</style>\n",
       "<table border=\"1\" class=\"dataframe\">\n",
       "  <thead>\n",
       "    <tr style=\"text-align: right;\">\n",
       "      <th></th>\n",
       "      <th>2025-06-30</th>\n",
       "      <th>2025-03-31</th>\n",
       "      <th>2024-12-31</th>\n",
       "      <th>2024-09-30</th>\n",
       "      <th>2024-06-30</th>\n",
       "      <th>2024-03-31</th>\n",
       "    </tr>\n",
       "  </thead>\n",
       "  <tbody>\n",
       "    <tr>\n",
       "      <th>Accounts Payable</th>\n",
       "      <td>2.772400e+10</td>\n",
       "      <td>2.625000e+10</td>\n",
       "      <td>2.260800e+10</td>\n",
       "      <td>2.276800e+10</td>\n",
       "      <td>2.199600e+10</td>\n",
       "      <td>NaN</td>\n",
       "    </tr>\n",
       "    <tr>\n",
       "      <th>Current Liabilities</th>\n",
       "      <td>1.412180e+11</td>\n",
       "      <td>1.142060e+11</td>\n",
       "      <td>1.088820e+11</td>\n",
       "      <td>1.152000e+11</td>\n",
       "      <td>1.252860e+11</td>\n",
       "      <td>NaN</td>\n",
       "    </tr>\n",
       "  </tbody>\n",
       "</table>\n",
       "</div>"
      ],
      "text/plain": [
       "                       2025-06-30    2025-03-31    2024-12-31    2024-09-30  \\\n",
       "Accounts Payable     2.772400e+10  2.625000e+10  2.260800e+10  2.276800e+10   \n",
       "Current Liabilities  1.412180e+11  1.142060e+11  1.088820e+11  1.152000e+11   \n",
       "\n",
       "                       2024-06-30  2024-03-31  \n",
       "Accounts Payable     2.199600e+10         NaN  \n",
       "Current Liabilities  1.252860e+11         NaN  "
      ]
     },
     "execution_count": 46,
     "metadata": {},
     "output_type": "execute_result"
    }
   ],
   "source": [
    "new_quarterly_balance_sheet"
   ]
  },
  {
   "cell_type": "code",
   "execution_count": 47,
   "id": "a99ac8fd-f182-4c9d-a390-8489075a1470",
   "metadata": {},
   "outputs": [],
   "source": [
    "new_quarterly_balance_sheet_transposed=new_quarterly_balance_sheet.T"
   ]
  },
  {
   "cell_type": "code",
   "execution_count": 48,
   "id": "1c715e40-a0de-47b1-9f75-6b88aae25d29",
   "metadata": {},
   "outputs": [],
   "source": [
    "new_quarterly_balance_sheet_transposed.index=pd.to_datetime(new_quarterly_balance_sheet_transposed.index,yearfirst=True)"
   ]
  },
  {
   "cell_type": "code",
   "execution_count": 49,
   "id": "f87c4c87-4ff0-48cb-8299-53ee10fc122a",
   "metadata": {},
   "outputs": [],
   "source": [
    "new_quarterly_balance_sheet_transposed.drop(\"31-03-2024\",inplace=True)"
   ]
  },
  {
   "cell_type": "code",
   "execution_count": 50,
   "id": "08784dfe-2ebc-4304-be87-1d224e67712d",
   "metadata": {},
   "outputs": [
    {
     "data": {
      "text/html": [
       "<div>\n",
       "<style scoped>\n",
       "    .dataframe tbody tr th:only-of-type {\n",
       "        vertical-align: middle;\n",
       "    }\n",
       "\n",
       "    .dataframe tbody tr th {\n",
       "        vertical-align: top;\n",
       "    }\n",
       "\n",
       "    .dataframe thead th {\n",
       "        text-align: right;\n",
       "    }\n",
       "</style>\n",
       "<table border=\"1\" class=\"dataframe\">\n",
       "  <thead>\n",
       "    <tr style=\"text-align: right;\">\n",
       "      <th></th>\n",
       "      <th>Accounts Payable</th>\n",
       "      <th>Current Liabilities</th>\n",
       "    </tr>\n",
       "  </thead>\n",
       "  <tbody>\n",
       "    <tr>\n",
       "      <th>2025-06-30</th>\n",
       "      <td>2.772400e+10</td>\n",
       "      <td>1.412180e+11</td>\n",
       "    </tr>\n",
       "    <tr>\n",
       "      <th>2025-03-31</th>\n",
       "      <td>2.625000e+10</td>\n",
       "      <td>1.142060e+11</td>\n",
       "    </tr>\n",
       "    <tr>\n",
       "      <th>2024-12-31</th>\n",
       "      <td>2.260800e+10</td>\n",
       "      <td>1.088820e+11</td>\n",
       "    </tr>\n",
       "    <tr>\n",
       "      <th>2024-09-30</th>\n",
       "      <td>2.276800e+10</td>\n",
       "      <td>1.152000e+11</td>\n",
       "    </tr>\n",
       "    <tr>\n",
       "      <th>2024-06-30</th>\n",
       "      <td>2.199600e+10</td>\n",
       "      <td>1.252860e+11</td>\n",
       "    </tr>\n",
       "  </tbody>\n",
       "</table>\n",
       "</div>"
      ],
      "text/plain": [
       "            Accounts Payable  Current Liabilities\n",
       "2025-06-30      2.772400e+10         1.412180e+11\n",
       "2025-03-31      2.625000e+10         1.142060e+11\n",
       "2024-12-31      2.260800e+10         1.088820e+11\n",
       "2024-09-30      2.276800e+10         1.152000e+11\n",
       "2024-06-30      2.199600e+10         1.252860e+11"
      ]
     },
     "execution_count": 50,
     "metadata": {},
     "output_type": "execute_result"
    }
   ],
   "source": [
    "new_quarterly_balance_sheet_transposed"
   ]
  },
  {
   "cell_type": "markdown",
   "id": "0096549b-c5bd-4622-8fa3-b42b0a65aca7",
   "metadata": {},
   "source": [
    "# To ensure alignment with the fiscal year spanning 01-Jul-2024 to 30-Jun-2025, the quarter ending 30-Jun-2024 also needs to be filtered out:"
   ]
  },
  {
   "cell_type": "code",
   "execution_count": 51,
   "id": "42f732c8-7ae9-4556-a5f0-d47d6806cf5d",
   "metadata": {},
   "outputs": [],
   "source": [
    "new_quarterly_balance_sheet_transposed.drop('30-06-2024',inplace=True)"
   ]
  },
  {
   "cell_type": "code",
   "execution_count": 52,
   "id": "a5dd3013-2195-4b90-a5e6-fe80dba04080",
   "metadata": {},
   "outputs": [
    {
     "data": {
      "text/html": [
       "<div>\n",
       "<style scoped>\n",
       "    .dataframe tbody tr th:only-of-type {\n",
       "        vertical-align: middle;\n",
       "    }\n",
       "\n",
       "    .dataframe tbody tr th {\n",
       "        vertical-align: top;\n",
       "    }\n",
       "\n",
       "    .dataframe thead th {\n",
       "        text-align: right;\n",
       "    }\n",
       "</style>\n",
       "<table border=\"1\" class=\"dataframe\">\n",
       "  <thead>\n",
       "    <tr style=\"text-align: right;\">\n",
       "      <th></th>\n",
       "      <th>Accounts Payable</th>\n",
       "      <th>Current Liabilities</th>\n",
       "    </tr>\n",
       "  </thead>\n",
       "  <tbody>\n",
       "    <tr>\n",
       "      <th>2025-06-30</th>\n",
       "      <td>2.772400e+10</td>\n",
       "      <td>1.412180e+11</td>\n",
       "    </tr>\n",
       "    <tr>\n",
       "      <th>2025-03-31</th>\n",
       "      <td>2.625000e+10</td>\n",
       "      <td>1.142060e+11</td>\n",
       "    </tr>\n",
       "    <tr>\n",
       "      <th>2024-12-31</th>\n",
       "      <td>2.260800e+10</td>\n",
       "      <td>1.088820e+11</td>\n",
       "    </tr>\n",
       "    <tr>\n",
       "      <th>2024-09-30</th>\n",
       "      <td>2.276800e+10</td>\n",
       "      <td>1.152000e+11</td>\n",
       "    </tr>\n",
       "  </tbody>\n",
       "</table>\n",
       "</div>"
      ],
      "text/plain": [
       "            Accounts Payable  Current Liabilities\n",
       "2025-06-30      2.772400e+10         1.412180e+11\n",
       "2025-03-31      2.625000e+10         1.142060e+11\n",
       "2024-12-31      2.260800e+10         1.088820e+11\n",
       "2024-09-30      2.276800e+10         1.152000e+11"
      ]
     },
     "execution_count": 52,
     "metadata": {},
     "output_type": "execute_result"
    }
   ],
   "source": [
    "new_quarterly_balance_sheet_transposed"
   ]
  },
  {
   "cell_type": "code",
   "execution_count": 53,
   "id": "6d586539-0032-4113-b4db-d1e7d6f7d989",
   "metadata": {},
   "outputs": [
    {
     "name": "stdout",
     "output_type": "stream",
     "text": [
      "<class 'pandas.core.frame.DataFrame'>\n",
      "DatetimeIndex: 4 entries, 2025-06-30 to 2024-09-30\n",
      "Data columns (total 2 columns):\n",
      " #   Column               Non-Null Count  Dtype  \n",
      "---  ------               --------------  -----  \n",
      " 0   Accounts Payable     4 non-null      float64\n",
      " 1   Current Liabilities  4 non-null      float64\n",
      "dtypes: float64(2)\n",
      "memory usage: 96.0 bytes\n"
     ]
    }
   ],
   "source": [
    "new_quarterly_balance_sheet_transposed.info()"
   ]
  },
  {
   "cell_type": "code",
   "execution_count": 54,
   "id": "50176598-23e7-4888-995c-21190c50ff51",
   "metadata": {},
   "outputs": [
    {
     "data": {
      "text/html": [
       "<div>\n",
       "<style scoped>\n",
       "    .dataframe tbody tr th:only-of-type {\n",
       "        vertical-align: middle;\n",
       "    }\n",
       "\n",
       "    .dataframe tbody tr th {\n",
       "        vertical-align: top;\n",
       "    }\n",
       "\n",
       "    .dataframe thead th {\n",
       "        text-align: right;\n",
       "    }\n",
       "</style>\n",
       "<table border=\"1\" class=\"dataframe\">\n",
       "  <thead>\n",
       "    <tr style=\"text-align: right;\">\n",
       "      <th></th>\n",
       "      <th>Accounts Payable</th>\n",
       "      <th>Current Liabilities</th>\n",
       "    </tr>\n",
       "  </thead>\n",
       "  <tbody>\n",
       "    <tr>\n",
       "      <th>count</th>\n",
       "      <td>4.000000e+00</td>\n",
       "      <td>4.000000e+00</td>\n",
       "    </tr>\n",
       "    <tr>\n",
       "      <th>mean</th>\n",
       "      <td>2.483750e+10</td>\n",
       "      <td>1.198765e+11</td>\n",
       "    </tr>\n",
       "    <tr>\n",
       "      <th>std</th>\n",
       "      <td>2.554769e+09</td>\n",
       "      <td>1.449555e+10</td>\n",
       "    </tr>\n",
       "    <tr>\n",
       "      <th>min</th>\n",
       "      <td>2.260800e+10</td>\n",
       "      <td>1.088820e+11</td>\n",
       "    </tr>\n",
       "    <tr>\n",
       "      <th>25%</th>\n",
       "      <td>2.272800e+10</td>\n",
       "      <td>1.128750e+11</td>\n",
       "    </tr>\n",
       "    <tr>\n",
       "      <th>50%</th>\n",
       "      <td>2.450900e+10</td>\n",
       "      <td>1.147030e+11</td>\n",
       "    </tr>\n",
       "    <tr>\n",
       "      <th>75%</th>\n",
       "      <td>2.661850e+10</td>\n",
       "      <td>1.217045e+11</td>\n",
       "    </tr>\n",
       "    <tr>\n",
       "      <th>max</th>\n",
       "      <td>2.772400e+10</td>\n",
       "      <td>1.412180e+11</td>\n",
       "    </tr>\n",
       "  </tbody>\n",
       "</table>\n",
       "</div>"
      ],
      "text/plain": [
       "       Accounts Payable  Current Liabilities\n",
       "count      4.000000e+00         4.000000e+00\n",
       "mean       2.483750e+10         1.198765e+11\n",
       "std        2.554769e+09         1.449555e+10\n",
       "min        2.260800e+10         1.088820e+11\n",
       "25%        2.272800e+10         1.128750e+11\n",
       "50%        2.450900e+10         1.147030e+11\n",
       "75%        2.661850e+10         1.217045e+11\n",
       "max        2.772400e+10         1.412180e+11"
      ]
     },
     "execution_count": 54,
     "metadata": {},
     "output_type": "execute_result"
    }
   ],
   "source": [
    "new_quarterly_balance_sheet_transposed.describe()"
   ]
  },
  {
   "cell_type": "markdown",
   "id": "ee6f2849-1149-49f0-a1bd-070d4a8c43c2",
   "metadata": {},
   "source": [
    "# Based on the statistics for quarterly balance sheet according to Accounts Payable and Current Liabilities:\n",
    "Accounts Payable averages (median) - Relatively symmetric distribution.  \n",
    "Current Liabilities average (median) - Mean > Median  \n",
    "The difference in scale reflects that Current Liabilities cover a broader range of short-term obligations beyond just Accounts Payable.  \n",
    "Standard Deviation (std) - Shows moderate variability in both datasets. The higher absolute variability in Current Liabilities is expected given its larger mean value.  \n",
    "The range (max - min) is relatively stable behavior, showing no significant outliers.\n",
    "The statistics support the reliability and validity of these metrics for analytical and comparative purposes."
   ]
  },
  {
   "cell_type": "markdown",
   "id": "30c78ef8-bac8-4cb1-9318-b10dabe84050",
   "metadata": {},
   "source": [
    "# Visualizations of Accounts Payable and Current Liabilities trends over a Fiscal Year:"
   ]
  },
  {
   "cell_type": "code",
   "execution_count": 55,
   "id": "072a8e8d-689c-43aa-9e4d-ffd16cb9cd4b",
   "metadata": {},
   "outputs": [],
   "source": [
    "x_quarterly=new_quarterly_balance_sheet_transposed.index\n",
    "y1_quarterly=new_quarterly_balance_sheet_transposed['Accounts Payable']\n",
    "y2_quarterly=new_quarterly_balance_sheet_transposed['Current Liabilities']\n",
    "mask1=y1_quarterly/y2_quarterly*100"
   ]
  },
  {
   "cell_type": "code",
   "execution_count": 56,
   "id": "2ca54d5a-92c9-4015-8185-177eea3a3151",
   "metadata": {},
   "outputs": [
    {
     "name": "stdout",
     "output_type": "stream",
     "text": [
      "DatetimeIndex(['2025-06-30', '2025-03-31', '2024-12-31', '2024-09-30'], dtype='datetime64[ns]', freq=None)\n"
     ]
    }
   ],
   "source": [
    "print(x_quarterly)"
   ]
  },
  {
   "cell_type": "code",
   "execution_count": 57,
   "id": "2888bb54-0e64-4339-8a50-2557d31d2705",
   "metadata": {},
   "outputs": [
    {
     "data": {
      "image/png": "[encoded data removed]",
      "text/plain": [
       "<Figure size 1400x500 with 3 Axes>"
      ]
     },
     "metadata": {},
     "output_type": "display_data"
    }
   ],
   "source": [
    "plt.figure(figsize=(14,5))\n",
    "plt.style.use('seaborn-v0_8')\n",
    "plt.suptitle('Trends Observations over a Fiscal Year', fontsize=20,color='#134686')\n",
    "\n",
    "plt.subplot(1,3,1)\n",
    "plt.plot(x_quarterly,y1_quarterly,color='#134686',lw=4,ls='-',marker='o',ms=15,mfc='#48B3AF',label='Accounts Payable')\n",
    "plt.title('Accounts Payable Q3-2024 - Q2-2025', fontsize=15,color='#476EAE')\n",
    "plt.xlabel('Quarter',fontsize=15,color='#476EAE')\n",
    "plt.xticks(['2025-06-30', '2025-03-31', '2024-12-31', '2024-09-30'],labels=['Q2-2025','Q1-2025','Q4-2024','Q3-2024'],fontsize=13,color='#476EAE')\n",
    "plt.ylabel('Amount (in Billions)',fontsize=15,color='#476EAE')\n",
    "\n",
    "plt.subplot(1,3,2)\n",
    "plt.plot(x_quarterly,y2_quarterly,color='#ED3F27',lw=4,ls='--', marker='*', ms=20, mfc='#FEB21A',label='Current Liabilities')\n",
    "plt.title('Current Liabilities Q3-2024 - Q2-2025', fontsize=15,color='#476EAE')\n",
    "plt.xlabel('Quarter',fontsize=15,color='#476EAE')\n",
    "plt.xticks(['2025-06-30', '2025-03-31', '2024-12-31', '2024-09-30'],labels=['Q2-2025','Q1-2025','Q4-2024','Q3-2024'],fontsize=13,color='#476EAE')\n",
    "plt.ylabel('Amount (in Billions)',fontsize=15,color='#476EAE')\n",
    "\n",
    "plt.subplot(1,3,3)\n",
    "plt.bar(x_quarterly,y1_quarterly, width=20,color='#134686',align='edge',label='Accounts Payable')\n",
    "plt.bar(x_quarterly,y2_quarterly, width=12,color='#ED3F27',align='center',label='Current Liabilities')\n",
    "plt.title('Accounts Payable, a component of Current Liabilities',fontsize=13,color='#476EAE')\n",
    "for i,j in zip(mask1.index,mask1):\n",
    "    plt.annotate(f'{j:.2f}%',xy=(i,j+4e10),ha='left',color='#134686',fontweight='bold',size=14)\n",
    "plt.xlabel('Quarter',fontsize=15,color='#476EAE')\n",
    "plt.xticks(x_quarterly,labels=['Q2-2025','Q1-2025','Q4-2024','Q3-2024'],fontsize=13,color='#476EAE')\n",
    "plt.ylabel('Amount (in Billions)',fontsize=15,color='#476EAE')\n",
    "plt.ylim(0,1.6e11)\n",
    "\n",
    "plt.legend(labelcolor='#476EAE')\n",
    "plt.tight_layout()\n",
    "plt.show()"
   ]
  },
  {
   "cell_type": "markdown",
   "id": "f76b2f05-97ba-4ed6-aa5f-726249346810",
   "metadata": {},
   "source": [
    "# Visual Analysis of Acconts Payable and Current Liabilities trends over a fiscal year:\n",
    "Accounts Payable - Overall increasing trend, slight decrease from Q3-2024 to Q-2024, followed by a steady rise.  \n",
    "Current Liabilities - Overall increasing trend, but not linear. Increased significantly by Q2-2025. Decreased from Q3-2024 to Q4-2024. Q4-2024, notably lower compared to other quarters.  \n",
    "Accounts Payable to Current Liabilities proportion - Highest ratio in Q1-2025. Lowest in Q2-2025.\n",
    "While both Accounts Payable and Total Current Liabilities show an upward trend, the proportion of Accounts Payable within Current Liabilities has varied."
   ]
  },
  {
   "cell_type": "markdown",
   "id": "4b7198c7-e462-4b68-b4e6-4d9bd1cc3a2b",
   "metadata": {},
   "source": [
    "# Creating a new DataFrame by resetting the index, converting the current index into a regular column, and renaming it from \"index\" to \"Quarter\":"
   ]
  },
  {
   "cell_type": "code",
   "execution_count": 58,
   "id": "e50c0c4c-6875-4dfa-9890-f2725d2ad976",
   "metadata": {},
   "outputs": [],
   "source": [
    "new_quarterly_balance_sheet_transposed_df=new_quarterly_balance_sheet_transposed.reset_index().rename(columns={'index': 'Quarter'})"
   ]
  },
  {
   "cell_type": "markdown",
   "id": "df64a4c3-17cb-4b91-9eb2-f67b3455b23e",
   "metadata": {},
   "source": [
    "# To fix a calculatin error, I had to sort the values in the 'Quarter' column:"
   ]
  },
  {
   "cell_type": "code",
   "execution_count": 59,
   "id": "d5d562fa-4ddf-4e8e-af7a-ba6385f5fa1c",
   "metadata": {},
   "outputs": [],
   "source": [
    "new_quarterly_balance_sheet_transposed_df_sorted=new_quarterly_balance_sheet_transposed_df.sort_values('Quarter')"
   ]
  },
  {
   "cell_type": "markdown",
   "id": "07d046cc-db86-4acb-a3b0-e2260ac5ec7d",
   "metadata": {},
   "source": [
    "# Adding new columns to new_quarterly_balance_sheet_transposed Dataframe:  \n",
    "Accounts Payable Percentage Change - To compute the quarter-over-quarter percentage change for Accounts Payable.  \n",
    "Current Liabilities Percentage Change - To compute the quarter-over-quarter percentage change for Current Liabilities.  "
   ]
  },
  {
   "cell_type": "code",
   "execution_count": 60,
   "id": "3182afed-a2f8-4ef5-946e-365698caad86",
   "metadata": {},
   "outputs": [],
   "source": [
    "new_quarterly_balance_sheet_transposed_df_sorted['Accounts Payable Percentage Change']= ( \n",
    "new_quarterly_balance_sheet_transposed_df_sorted['Accounts Payable'].pct_change()* 100)"
   ]
  },
  {
   "cell_type": "code",
   "execution_count": 61,
   "id": "2f1513ce-93d1-418a-91a2-0143878a61aa",
   "metadata": {},
   "outputs": [],
   "source": [
    "new_quarterly_balance_sheet_transposed_df_sorted['Current Liabilities Percentage Change']= ( \n",
    "new_quarterly_balance_sheet_transposed_df_sorted['Current Liabilities'].pct_change()* 100)"
   ]
  },
  {
   "cell_type": "code",
   "execution_count": 62,
   "id": "b3d741d3-3533-41da-bfe7-ae34296ec6db",
   "metadata": {},
   "outputs": [
    {
     "data": {
      "text/html": [
       "<div>\n",
       "<style scoped>\n",
       "    .dataframe tbody tr th:only-of-type {\n",
       "        vertical-align: middle;\n",
       "    }\n",
       "\n",
       "    .dataframe tbody tr th {\n",
       "        vertical-align: top;\n",
       "    }\n",
       "\n",
       "    .dataframe thead th {\n",
       "        text-align: right;\n",
       "    }\n",
       "</style>\n",
       "<table border=\"1\" class=\"dataframe\">\n",
       "  <thead>\n",
       "    <tr style=\"text-align: right;\">\n",
       "      <th></th>\n",
       "      <th>Quarter</th>\n",
       "      <th>Accounts Payable</th>\n",
       "      <th>Current Liabilities</th>\n",
       "      <th>Accounts Payable Percentage Change</th>\n",
       "      <th>Current Liabilities Percentage Change</th>\n",
       "    </tr>\n",
       "  </thead>\n",
       "  <tbody>\n",
       "    <tr>\n",
       "      <th>3</th>\n",
       "      <td>2024-09-30</td>\n",
       "      <td>2.276800e+10</td>\n",
       "      <td>1.152000e+11</td>\n",
       "      <td>NaN</td>\n",
       "      <td>NaN</td>\n",
       "    </tr>\n",
       "    <tr>\n",
       "      <th>2</th>\n",
       "      <td>2024-12-31</td>\n",
       "      <td>2.260800e+10</td>\n",
       "      <td>1.088820e+11</td>\n",
       "      <td>-0.702741</td>\n",
       "      <td>-5.484375</td>\n",
       "    </tr>\n",
       "    <tr>\n",
       "      <th>1</th>\n",
       "      <td>2025-03-31</td>\n",
       "      <td>2.625000e+10</td>\n",
       "      <td>1.142060e+11</td>\n",
       "      <td>16.109342</td>\n",
       "      <td>4.889697</td>\n",
       "    </tr>\n",
       "    <tr>\n",
       "      <th>0</th>\n",
       "      <td>2025-06-30</td>\n",
       "      <td>2.772400e+10</td>\n",
       "      <td>1.412180e+11</td>\n",
       "      <td>5.615238</td>\n",
       "      <td>23.651997</td>\n",
       "    </tr>\n",
       "  </tbody>\n",
       "</table>\n",
       "</div>"
      ],
      "text/plain": [
       "     Quarter  Accounts Payable  Current Liabilities  \\\n",
       "3 2024-09-30      2.276800e+10         1.152000e+11   \n",
       "2 2024-12-31      2.260800e+10         1.088820e+11   \n",
       "1 2025-03-31      2.625000e+10         1.142060e+11   \n",
       "0 2025-06-30      2.772400e+10         1.412180e+11   \n",
       "\n",
       "   Accounts Payable Percentage Change  Current Liabilities Percentage Change  \n",
       "3                                 NaN                                    NaN  \n",
       "2                           -0.702741                              -5.484375  \n",
       "1                           16.109342                               4.889697  \n",
       "0                            5.615238                              23.651997  "
      ]
     },
     "execution_count": 62,
     "metadata": {},
     "output_type": "execute_result"
    }
   ],
   "source": [
    "new_quarterly_balance_sheet_transposed_df_sorted"
   ]
  },
  {
   "cell_type": "markdown",
   "id": "0556622a-db58-482f-acb6-6fc835a8ed1b",
   "metadata": {},
   "source": [
    "# Visualization of Accounts Payable and Current Liabilities Percentage Changes over a Fiscal Year:"
   ]
  },
  {
   "cell_type": "code",
   "execution_count": 63,
   "id": "aa130897-a3d0-47af-b8ae-7b8ff6048630",
   "metadata": {},
   "outputs": [
    {
     "data": {
      "image/png": "[encoded data removed]",
      "text/plain": [
       "<Figure size 510x510 with 1 Axes>"
      ]
     },
     "metadata": {},
     "output_type": "display_data"
    }
   ],
   "source": [
    "plt.figure(figsize=(6,6),dpi=85)\n",
    "plt.style.use('seaborn-v0_8')\n",
    "\n",
    "plt.title('Accounts Payable and Current Liabilities Percentage Changes over a Fiscal Year',fontsize=15,color='#476EAE')\n",
    "sb.lineplot(data=new_quarterly_balance_sheet_transposed_df_sorted,x='Quarter',y='Accounts Payable Percentage Change',\n",
    "            lw=4,marker='>',ms=8,label='Accounts Payable Percentage')\n",
    "sb.lineplot(data=new_quarterly_balance_sheet_transposed_df_sorted,x='Quarter',y='Current Liabilities Percentage Change',\n",
    "            color='#48B3AF',lw=4,marker='*',ms=12,label='Current Liabilities Percentage')\n",
    "plt.xlabel('Quarter',fontsize=15,color='#476EAE')\n",
    "plt.xticks(['2025-06-30', '2025-03-31', '2024-12-31', '2024-09-30'],labels=['Q2-2025','Q1-2025','Q4-2024','Q3-2024'],fontsize=13,color='#476EAE')\n",
    "plt.ylabel('Percentage Change',fontsize=15,color='#476EAE')\n",
    "plt.yticks([-10,-5,0,5,10,15,20,25],labels=['-10%','-5%','0','5%','10%','15%','20%','25%'],fontsize=13,color='#476EAE')\n",
    "\n",
    "plt.legend(labelcolor='#476EAE',fontsize=13)\n",
    "plt.tight_layout()\n",
    "plt.show()"
   ]
  },
  {
   "cell_type": "markdown",
   "id": "69df1f99-fec0-40c7-a87f-15e8512bda8b",
   "metadata": {},
   "source": [
    "# Visual Analysis of Quarter-over-Quarter Percentage Changes:\n",
    "Note: The earliest quarter, Q3-2024 has no percentage change values since it's the base period.\n",
    "Q4-2024 respectively to Q3-2024: Accounts Payable decreased slightly, -0.7%. Current Liabilities decreased more sharply, ~-5.5%.\n",
    "Q1-2025 respectively to Q4-2024: Accounts Payable increased significantly by 16.1%. Current Liabilities also increased, but by a smaller percentage, 4.9%.  \n",
    "Q2-2025 respectively to Q1-2025: Accounts Payable increased again, but by only by 5.6% — significantly lower compared to the previous quarter’s growth rate. Current Liabilities rose sharply by 23.7%.\n",
    "Accounts Payable shows a net increase over the three quarters, with the sharpest rise in Q1-2025.\n",
    "Current Liabilities also increased overall, but with greater volatility — especially a large spike in Q2-2025."
   ]
  },
  {
   "cell_type": "markdown",
   "id": "c36dc65b-b7ec-46be-ab30-7a5b5d578a05",
   "metadata": {},
   "source": [
    "# For additional overview, adding more new columns to new_quarterly_balance_sheet_transposed Dataframe:\n",
    "Ratio_Quarterly - To compute the ratio between Accounts Payable and Current Liabilities.  \n",
    "Max Ratio_Quarterly - To observe the highest value of calculated ratio.  \n",
    "Min Ratio_Quarterly - To observe the lowest value of calculated ratio."
   ]
  },
  {
   "cell_type": "code",
   "execution_count": 64,
   "id": "fa38878f-5f7d-42c0-b349-bf8e53bce613",
   "metadata": {},
   "outputs": [],
   "source": [
    "new_quarterly_balance_sheet_transposed_df_sorted['Ratio_Quarterly'] = (new_quarterly_balance_sheet_transposed_df_sorted['Accounts Payable'] / \n",
    "new_quarterly_balance_sheet_transposed_df_sorted['Current Liabilities'])"
   ]
  },
  {
   "cell_type": "code",
   "execution_count": 65,
   "id": "5687892e-6b9b-4a47-98f9-ba353b8862cf",
   "metadata": {},
   "outputs": [],
   "source": [
    "new_quarterly_balance_sheet_transposed_df_sorted['Max']=new_quarterly_balance_sheet_transposed_df_sorted['Ratio_Quarterly'].max()\n",
    "new_quarterly_balance_sheet_transposed_df_sorted['Min']=new_quarterly_balance_sheet_transposed_df_sorted['Ratio_Quarterly'].min()  "
   ]
  },
  {
   "cell_type": "code",
   "execution_count": 66,
   "id": "d9852d21-0dd7-48ff-990f-61d3fc08c3f1",
   "metadata": {},
   "outputs": [
    {
     "name": "stdout",
     "output_type": "stream",
     "text": [
      "<class 'pandas.core.frame.DataFrame'>\n",
      "Index: 4 entries, 3 to 0\n",
      "Data columns (total 8 columns):\n",
      " #   Column                                 Non-Null Count  Dtype         \n",
      "---  ------                                 --------------  -----         \n",
      " 0   Quarter                                4 non-null      datetime64[ns]\n",
      " 1   Accounts Payable                       4 non-null      float64       \n",
      " 2   Current Liabilities                    4 non-null      float64       \n",
      " 3   Accounts Payable Percentage Change     3 non-null      float64       \n",
      " 4   Current Liabilities Percentage Change  3 non-null      float64       \n",
      " 5   Ratio_Quarterly                        4 non-null      float64       \n",
      " 6   Max                                    4 non-null      float64       \n",
      " 7   Min                                    4 non-null      float64       \n",
      "dtypes: datetime64[ns](1), float64(7)\n",
      "memory usage: 288.0 bytes\n"
     ]
    }
   ],
   "source": [
    "new_quarterly_balance_sheet_transposed_df_sorted.info()"
   ]
  },
  {
   "cell_type": "code",
   "execution_count": 67,
   "id": "82c70208-2645-49c1-8536-ad1dfcc10a31",
   "metadata": {},
   "outputs": [
    {
     "data": {
      "text/html": [
       "<div>\n",
       "<style scoped>\n",
       "    .dataframe tbody tr th:only-of-type {\n",
       "        vertical-align: middle;\n",
       "    }\n",
       "\n",
       "    .dataframe tbody tr th {\n",
       "        vertical-align: top;\n",
       "    }\n",
       "\n",
       "    .dataframe thead th {\n",
       "        text-align: right;\n",
       "    }\n",
       "</style>\n",
       "<table border=\"1\" class=\"dataframe\">\n",
       "  <thead>\n",
       "    <tr style=\"text-align: right;\">\n",
       "      <th></th>\n",
       "      <th>Quarter</th>\n",
       "      <th>Accounts Payable</th>\n",
       "      <th>Current Liabilities</th>\n",
       "      <th>Ratio_Quarterly</th>\n",
       "      <th>Max</th>\n",
       "      <th>Min</th>\n",
       "    </tr>\n",
       "  </thead>\n",
       "  <tbody>\n",
       "    <tr>\n",
       "      <th>3</th>\n",
       "      <td>2024-09-30</td>\n",
       "      <td>2.276800e+10</td>\n",
       "      <td>1.152000e+11</td>\n",
       "      <td>0.197639</td>\n",
       "      <td>0.229848</td>\n",
       "      <td>0.196321</td>\n",
       "    </tr>\n",
       "    <tr>\n",
       "      <th>2</th>\n",
       "      <td>2024-12-31</td>\n",
       "      <td>2.260800e+10</td>\n",
       "      <td>1.088820e+11</td>\n",
       "      <td>0.207638</td>\n",
       "      <td>0.229848</td>\n",
       "      <td>0.196321</td>\n",
       "    </tr>\n",
       "    <tr>\n",
       "      <th>1</th>\n",
       "      <td>2025-03-31</td>\n",
       "      <td>2.625000e+10</td>\n",
       "      <td>1.142060e+11</td>\n",
       "      <td>0.229848</td>\n",
       "      <td>0.229848</td>\n",
       "      <td>0.196321</td>\n",
       "    </tr>\n",
       "    <tr>\n",
       "      <th>0</th>\n",
       "      <td>2025-06-30</td>\n",
       "      <td>2.772400e+10</td>\n",
       "      <td>1.412180e+11</td>\n",
       "      <td>0.196321</td>\n",
       "      <td>0.229848</td>\n",
       "      <td>0.196321</td>\n",
       "    </tr>\n",
       "  </tbody>\n",
       "</table>\n",
       "</div>"
      ],
      "text/plain": [
       "     Quarter  Accounts Payable  Current Liabilities  Ratio_Quarterly  \\\n",
       "3 2024-09-30      2.276800e+10         1.152000e+11         0.197639   \n",
       "2 2024-12-31      2.260800e+10         1.088820e+11         0.207638   \n",
       "1 2025-03-31      2.625000e+10         1.142060e+11         0.229848   \n",
       "0 2025-06-30      2.772400e+10         1.412180e+11         0.196321   \n",
       "\n",
       "        Max       Min  \n",
       "3  0.229848  0.196321  \n",
       "2  0.229848  0.196321  \n",
       "1  0.229848  0.196321  \n",
       "0  0.229848  0.196321  "
      ]
     },
     "execution_count": 67,
     "metadata": {},
     "output_type": "execute_result"
    }
   ],
   "source": [
    "new_quarterly_balance_sheet_transposed_df_sorted[['Quarter','Accounts Payable','Current Liabilities','Ratio_Quarterly','Max','Min']]"
   ]
  },
  {
   "cell_type": "markdown",
   "id": "734fbb35-5f00-4ddd-a410-b04a89410551",
   "metadata": {},
   "source": [
    "# Creating a new DataFrame for a selected fiscal year using a conditional filter, ensuring alignment with the existing Ratio Quarterly DataFrame:\n",
    "The chosen two rows, representing the period between 30/06/2024 and 30/06/2025, are used to illustrate the trend over the fiscal year."
   ]
  },
  {
   "cell_type": "code",
   "execution_count": 68,
   "id": "dbcfe64d-a66f-4809-81c5-1fca82f39697",
   "metadata": {},
   "outputs": [],
   "source": [
    "Ratio_Annual_df_Jun_2024_to_Jun_2025=Ratio_Annual_df[Ratio_Annual_df['Year'].between('2024-06-30','2025-06-30')].copy()"
   ]
  },
  {
   "cell_type": "markdown",
   "id": "29008068-3ea8-4689-9cff-58e1d109eb6f",
   "metadata": {},
   "source": [
    "# Adding new columns to display the minimum and maximum range for the Accounts Payable and Current Liabilities Ratio in our new single fiscal year DataFrame: "
   ]
  },
  {
   "cell_type": "code",
   "execution_count": 69,
   "id": "2e1549e6-508a-4134-acf9-45f99c543949",
   "metadata": {},
   "outputs": [],
   "source": [
    "Ratio_Annual_df_Jun_2024_to_Jun_2025['Max']=Ratio_Annual_df_Jun_2024_to_Jun_2025['Ratio_Annual'].max()\n",
    "Ratio_Annual_df_Jun_2024_to_Jun_2025['Min']=Ratio_Annual_df_Jun_2024_to_Jun_2025['Ratio_Annual'].min()"
   ]
  },
  {
   "cell_type": "code",
   "execution_count": 70,
   "id": "167c4182-0be6-4788-8f1f-8ea0a31e994a",
   "metadata": {},
   "outputs": [
    {
     "data": {
      "text/html": [
       "<div>\n",
       "<style scoped>\n",
       "    .dataframe tbody tr th:only-of-type {\n",
       "        vertical-align: middle;\n",
       "    }\n",
       "\n",
       "    .dataframe tbody tr th {\n",
       "        vertical-align: top;\n",
       "    }\n",
       "\n",
       "    .dataframe thead th {\n",
       "        text-align: right;\n",
       "    }\n",
       "</style>\n",
       "<table border=\"1\" class=\"dataframe\">\n",
       "  <thead>\n",
       "    <tr style=\"text-align: right;\">\n",
       "      <th></th>\n",
       "      <th>Year</th>\n",
       "      <th>Accounts Payable</th>\n",
       "      <th>Current Liabilities</th>\n",
       "      <th>Ratio_Annual</th>\n",
       "      <th>Max</th>\n",
       "      <th>Min</th>\n",
       "    </tr>\n",
       "  </thead>\n",
       "  <tbody>\n",
       "    <tr>\n",
       "      <th>0</th>\n",
       "      <td>2025-06-30</td>\n",
       "      <td>2.772400e+10</td>\n",
       "      <td>1.412180e+11</td>\n",
       "      <td>0.196321</td>\n",
       "      <td>0.196321</td>\n",
       "      <td>0.175566</td>\n",
       "    </tr>\n",
       "    <tr>\n",
       "      <th>1</th>\n",
       "      <td>2024-06-30</td>\n",
       "      <td>2.199600e+10</td>\n",
       "      <td>1.252860e+11</td>\n",
       "      <td>0.175566</td>\n",
       "      <td>0.196321</td>\n",
       "      <td>0.175566</td>\n",
       "    </tr>\n",
       "  </tbody>\n",
       "</table>\n",
       "</div>"
      ],
      "text/plain": [
       "        Year  Accounts Payable  Current Liabilities  Ratio_Annual       Max  \\\n",
       "0 2025-06-30      2.772400e+10         1.412180e+11      0.196321  0.196321   \n",
       "1 2024-06-30      2.199600e+10         1.252860e+11      0.175566  0.196321   \n",
       "\n",
       "        Min  \n",
       "0  0.175566  \n",
       "1  0.175566  "
      ]
     },
     "execution_count": 70,
     "metadata": {},
     "output_type": "execute_result"
    }
   ],
   "source": [
    "Ratio_Annual_df_Jun_2024_to_Jun_2025"
   ]
  },
  {
   "cell_type": "markdown",
   "id": "69702a99-3cfe-430b-90dc-d58187901208",
   "metadata": {},
   "source": [
    "# Visualizations of Quarterly and Annual Ratios of Accounts Payable to Current Liabilities Over a Fiscal Year:"
   ]
  },
  {
   "cell_type": "code",
   "execution_count": 71,
   "id": "2858cc2e-13c2-417c-9dba-5dc533a700aa",
   "metadata": {},
   "outputs": [
    {
     "data": {
      "image/png": "[encoded data removed]",
      "text/plain": [
       "<Figure size 1000x500 with 2 Axes>"
      ]
     },
     "metadata": {},
     "output_type": "display_data"
    }
   ],
   "source": [
    "plt.figure(figsize=(10,5))\n",
    "plt.style.use('seaborn-v0_8')\n",
    "plt.suptitle('Quarterly vs Annual Ratio',fontsize=15,color='k')\n",
    "ax = plt.subplot(1,2,1)\n",
    "\n",
    "plt.subplot(1,2,1)\n",
    "plt.title('Quarterly Ratio Over a Fiscal Year',fontsize=13,color='#ED3F27')\n",
    "sb.lineplot(data=new_quarterly_balance_sheet_transposed_df_sorted,x='Quarter',y='Ratio_Quarterly',color='#FEB21A',\n",
    "            lw=4,marker='o',ms=8,label='Quarterly Ratio')\n",
    "sb.lineplot(data=new_quarterly_balance_sheet_transposed_df_sorted,x='Quarter',y='Max', color='#ED3F27',\n",
    "            linestyle='--',lw=1.5,label='Max Quaterly Ratio')\n",
    "sb.lineplot(data=new_quarterly_balance_sheet_transposed_df_sorted,x='Quarter',y='Min', color='#ED3F27',\n",
    "            linestyle='--',lw=1.5,label='Min Quaterly Ratio')\n",
    "plt.xlabel('Quarter',fontsize=15,color='#ED3F27')\n",
    "plt.xticks(['2025-06-30', '2025-03-31', '2024-12-31', '2024-09-30'],labels=['Q2-2025','Q1-2025','Q4-2024','Q3-2024'],rotation=45, color='#ED3F27')\n",
    "plt.ylabel('Ratio (Accounts Payable / Current Liabilities)', fontsize=14,color='#ED3F27')\n",
    "plt.ylim(0.1,0.3) \n",
    "plt.legend()\n",
    "\n",
    "plt.subplot(1,2,2,sharey=ax)\n",
    "plt.title('Annual Ratio Over One Fiscal Year',fontsize=13,color='#6E8CFB')\n",
    "sb.lineplot(data=Ratio_Annual_df_Jun_2024_to_Jun_2025,x='Year',y='Ratio_Annual',lw=4,marker='>',ms=8,label='Annual Ratio')\n",
    "sb.lineplot(data=Ratio_Annual_df_Jun_2024_to_Jun_2025,x='Year',y='Max', color='#48B3AF',linestyle='--',lw=1.5,label='Max Annual Ratio')\n",
    "sb.lineplot(data=Ratio_Annual_df_Jun_2024_to_Jun_2025,x='Year',y='Min', color='#48B3AF',linestyle='--',lw=1.5,label='Min Annual Ratio')\n",
    "plt.xlabel('Fiscal Year',fontsize=15,color='#6E8CFB')\n",
    "plt.xticks(['2025-06-30', '2024-06-30'],labels=['Jun-2025','Jun-2024'],rotation=45,color='#6E8CFB')\n",
    "plt.ylabel('Ratio (Accounts Payable / Current Liabilities)', fontsize=14,color='#6E8CFB')\n",
    "plt.ylim(0.1,0.25) \n",
    "plt.legend()\n",
    "\n",
    "plt.tight_layout()\n",
    "plt.show()"
   ]
  },
  {
   "cell_type": "markdown",
   "id": "38f57b6c-f61d-4499-8878-e94a71674c59",
   "metadata": {},
   "source": [
    "# Visual Analysis of Quarterly Ratio vs Annual Ratio:  \n",
    "Quartely Ratio:  \n",
    "Max Ratio over the period is 0.2298 on Q1-2025.  \n",
    "Min Ratio over the period is 0.1963 on Q2-2025.\n",
    "3.35 percentage change.\n",
    "Q3-2024 to Q1-2025: The ratio steadily increased, peaking in Q1-2025.  \n",
    "Q1-2025 to Q2-2025: A notable drop to the lowest Min Ratio over these period.  \n",
    "Annual Ratio:  \n",
    "Max Ratio at 30/06/2025 is 0.1963.  \n",
    "Min Ratio at 30/06/2024 is 0.1756.  \n",
    "2.07 percentage change.  \n",
    "The ratio increased from 2024 to 2025, but the limited range of change indicates a relatively stable trend over the fiscal year.\n",
    "A comparison of the quarterly and annual Accounts Payable to Current Liabilities ratios reveals a wider variation at the quarterly level (3.35 percentage change) than annually (2.07 percentage change)."
   ]
  },
  {
   "cell_type": "markdown",
   "id": "c097742d-ae8a-4b73-8c99-f0b4b949b187",
   "metadata": {},
   "source": [
    "# Conclusions based on the quarterly trends we examined: \n",
    "While both Accounts Payable and Total Current Liabilities show an upward trend, the proportion of payables within current liabilities has fluctuated, reflecting changes in the company’s short-term financing and operational dynamics.  \n",
    "Accounts Payable is rising steadily, suggesting increased purchasing activity, extended payment terms, or reliance on trade credit.\n",
    "Current Liabilities are also increasing, but with some volatility:\n",
    "A decline in Q4-2024 was followed by an increase in Q1-2025, but a particualy sharp increase in Q2-2025. a significant jump in Current Liabilities by Q2-2025 suggests the company took on additional short-term obligations beyond trade payables. This may point to strategic financial restructuring, changes in working capital needs, or preparation for operational expansion.    \n",
    "The Accounts Payable/Current Liabilities Ratio:\n",
    "Overall, Max-Min range suggests moderate variability in the ratio across the four quarters.\n",
    "In Q4-2024 Accounts Payable remained relatively stable, while other current liabilities decreased more significantly. Accounts Payable became a larger share of total Current Liabilities.  \n",
    "Ratio peaked in Q1-2025 -  Indicates that while Accounts Payable increased, Current Liabilities grew even faster in Q1-2025.  \n",
    "By Q2-2025 Ratio dropped back, cuased Accounts Payable to represent a smaller portion of total Current Liabilities - Indicates a shift in the composition of short-term obligations, with non-payable liabilities growing faster than payables.  \n",
    "Quarterly data captures short-term fluctuations in Accounts Payable and Current Liabilities, reflecting operational changes, seasonal effects, or timing of payments.\n",
    "Annual data represents a single snapshot at fiscal year-end, typically a more stable and smoothed view of financial position.  \n",
    "Comparing quarterly and annual Accounts Payable to Current Liabilities ratios reflects that quarterly data is more responsive to short-term fluctuations, whereas annual data averages out these variations, producing a more stable and narrower range."
   ]
  },
  {
   "cell_type": "markdown",
   "id": "d5a1add9-de9c-4766-9a16-eba8e478e858",
   "metadata": {},
   "source": [
    "# Proceeding with an analysis of the interesting relationships between the annual figure and their corresponding quarterly data.\n",
    "Due to the limited number of years and quarters available in my datasets from the annual and quarterly balance sheets uploaded from Yahoo Finance, I can only analyze the relationship within a single fiscal year."
   ]
  },
  {
   "cell_type": "markdown",
   "id": "4ee37078-f2ef-420b-ae44-6be429f9d41e",
   "metadata": {},
   "source": [
    "# Adding calculated columns to to extend the dataset and applying aggregation functions for analytical insights on Quarterly Balance Sheet:"
   ]
  },
  {
   "cell_type": "code",
   "execution_count": 72,
   "id": "906d9abc-8008-458c-9f29-64064ec5149b",
   "metadata": {},
   "outputs": [],
   "source": [
    "new_quarterly_balance_sheet_transposed_df_sorted['Annual_AP_from_Qtr_df']=new_quarterly_balance_sheet_transposed_df_sorted['Accounts Payable'].sum()"
   ]
  },
  {
   "cell_type": "code",
   "execution_count": 73,
   "id": "5a71dfbc-c7d5-4103-8746-f3742846e304",
   "metadata": {},
   "outputs": [],
   "source": [
    "new_quarterly_balance_sheet_transposed_df_sorted['Quarterly_Avg_AP']=(new_quarterly_balance_sheet_transposed_df_sorted['Accounts Payable']/\n",
    "                                                                      new_quarterly_balance_sheet_transposed_df_sorted['Annual_AP_from_Qtr_df'])"
   ]
  },
  {
   "cell_type": "code",
   "execution_count": 74,
   "id": "5d967af3-1f7b-4207-9cd9-2713239e9408",
   "metadata": {},
   "outputs": [],
   "source": [
    "new_quarterly_balance_sheet_transposed_df_sorted['Annual_CL_from_Qtr_df']=new_quarterly_balance_sheet_transposed_df_sorted['Current Liabilities'].sum()"
   ]
  },
  {
   "cell_type": "code",
   "execution_count": 75,
   "id": "0540ccce-6a9a-41dd-8fb0-98c6cf336d64",
   "metadata": {},
   "outputs": [],
   "source": [
    "new_quarterly_balance_sheet_transposed_df_sorted['Quarterly_Avg_CL']=(new_quarterly_balance_sheet_transposed_df_sorted['Current Liabilities']/\n",
    "                                                                      new_quarterly_balance_sheet_transposed_df_sorted['Annual_CL_from_Qtr_df'])"
   ]
  },
  {
   "cell_type": "code",
   "execution_count": 76,
   "id": "03d459f7-faec-4e43-aad8-274d329553a5",
   "metadata": {},
   "outputs": [],
   "source": [
    "new_quarterly_balance_sheet_transposed_df_sorted['Quarterly_Averages_Ratio'] = (new_quarterly_balance_sheet_transposed_df_sorted['Quarterly_Avg_AP'] / \n",
    "new_quarterly_balance_sheet_transposed_df_sorted['Quarterly_Avg_CL'])"
   ]
  },
  {
   "cell_type": "code",
   "execution_count": 77,
   "id": "369f6349-4dbf-4194-a9db-2d3609f83bbe",
   "metadata": {},
   "outputs": [],
   "source": [
    "filtered_quarterly_df=new_quarterly_balance_sheet_transposed_df_sorted[['Quarter','Quarterly_Avg_AP','Quarterly_Avg_CL','Quarterly_Averages_Ratio']]\t"
   ]
  },
  {
   "cell_type": "code",
   "execution_count": 78,
   "id": "d45c7e71-c554-48f1-b67f-f461c3ceafb8",
   "metadata": {},
   "outputs": [
    {
     "data": {
      "text/html": [
       "<div>\n",
       "<style scoped>\n",
       "    .dataframe tbody tr th:only-of-type {\n",
       "        vertical-align: middle;\n",
       "    }\n",
       "\n",
       "    .dataframe tbody tr th {\n",
       "        vertical-align: top;\n",
       "    }\n",
       "\n",
       "    .dataframe thead th {\n",
       "        text-align: right;\n",
       "    }\n",
       "</style>\n",
       "<table border=\"1\" class=\"dataframe\">\n",
       "  <thead>\n",
       "    <tr style=\"text-align: right;\">\n",
       "      <th></th>\n",
       "      <th>Quarter</th>\n",
       "      <th>Quarterly_Avg_AP</th>\n",
       "      <th>Quarterly_Avg_CL</th>\n",
       "      <th>Quarterly_Averages_Ratio</th>\n",
       "    </tr>\n",
       "  </thead>\n",
       "  <tbody>\n",
       "    <tr>\n",
       "      <th>3</th>\n",
       "      <td>2024-09-30</td>\n",
       "      <td>0.229170</td>\n",
       "      <td>0.240247</td>\n",
       "      <td>0.953891</td>\n",
       "    </tr>\n",
       "    <tr>\n",
       "      <th>2</th>\n",
       "      <td>2024-12-31</td>\n",
       "      <td>0.227559</td>\n",
       "      <td>0.227071</td>\n",
       "      <td>1.002149</td>\n",
       "    </tr>\n",
       "    <tr>\n",
       "      <th>1</th>\n",
       "      <td>2025-03-31</td>\n",
       "      <td>0.264217</td>\n",
       "      <td>0.238174</td>\n",
       "      <td>1.109345</td>\n",
       "    </tr>\n",
       "    <tr>\n",
       "      <th>0</th>\n",
       "      <td>2025-06-30</td>\n",
       "      <td>0.279054</td>\n",
       "      <td>0.294507</td>\n",
       "      <td>0.947528</td>\n",
       "    </tr>\n",
       "  </tbody>\n",
       "</table>\n",
       "</div>"
      ],
      "text/plain": [
       "     Quarter  Quarterly_Avg_AP  Quarterly_Avg_CL  Quarterly_Averages_Ratio\n",
       "3 2024-09-30          0.229170          0.240247                  0.953891\n",
       "2 2024-12-31          0.227559          0.227071                  1.002149\n",
       "1 2025-03-31          0.264217          0.238174                  1.109345\n",
       "0 2025-06-30          0.279054          0.294507                  0.947528"
      ]
     },
     "execution_count": 78,
     "metadata": {},
     "output_type": "execute_result"
    }
   ],
   "source": [
    "filtered_quarterly_df"
   ]
  },
  {
   "cell_type": "markdown",
   "id": "7bd4d7b8-7844-4a26-b6b3-7d0b8a3c845f",
   "metadata": {},
   "source": [
    "# Analysis of Quarterly Averages Figures over a Fiscal Year:\n",
    "A higher ratio suggests higher Accounts Payable relative to Current Liabilities:  \n",
    "In 30/09/2024 & 30/06/2025 - Accounts Payable is slightly less than Current Liabilities.  \n",
    "In 31/12/2024 & 31/03/2025 - Accounts Payable is higher than Current Liabilities - Makes up more than 100% of current liabilities. Meaning Accounts Payable is the dominant component of short-term liabilities.  \n",
    "In 31/03/2025 - the ratio spikes to 1.1093, possibly reflecting a temporary increase in payables or reduced liabilities.  \n",
    "In 30/06/2025 - the ratio drops to 0.9475, suggesting either a normalization or a shift in financial behavior."
   ]
  },
  {
   "cell_type": "markdown",
   "id": "8beba97e-b1c7-43a4-8310-0adb437c6d44",
   "metadata": {},
   "source": [
    "# Visualizations of Quarterly Average Figures Over a Fiscal Year using Seaborn Pairplot:"
   ]
  },
  {
   "cell_type": "code",
   "execution_count": 83,
   "id": "e2932220-d853-4e9b-a845-582d005d4c5c",
   "metadata": {},
   "outputs": [
    {
     "data": {
      "text/plain": [
       "<function matplotlib.pyplot.show(close=None, block=None)>"
      ]
     },
     "execution_count": 83,
     "metadata": {},
     "output_type": "execute_result"
    },
    {
     "data": {
      "text/plain": [
       "<Figure size 200x200 with 0 Axes>"
      ]
     },
     "metadata": {},
     "output_type": "display_data"
    },
    {
     "data": {
      "image/png": "[encoded data removed]",
      "text/plain": [
       "<Figure size 750x750 with 12 Axes>"
      ]
     },
     "metadata": {},
     "output_type": "display_data"
    }
   ],
   "source": [
    "plt.figure(figsize=(5,5),dpi=40)\n",
    "plt.style.use('seaborn-v0_8')\n",
    "sb.pairplot(filtered_quarterly_df)\n",
    "plt.suptitle(\"Pairplot of filtered_quarterly_df\", fontsize=16, y=1.02)\n",
    "plt.show"
   ]
  },
  {
   "cell_type": "markdown",
   "id": "04be9ca2-5c04-4807-8347-60ce48114332",
   "metadata": {},
   "source": [
    "# Visual Analysis of of Quarterly Average Figures Over a Fiscal Year:\n",
    "The aim is to explore a new approach to visualization.  \n",
    "Not all visualizations are clear or useful in this case..."
   ]
  },
  {
   "cell_type": "markdown",
   "id": "b73db5b0-87e1-4707-9415-76294d7784d0",
   "metadata": {},
   "source": [
    "# I have decided to merge the quarterly average ratio with the yearly ratio."
   ]
  },
  {
   "cell_type": "markdown",
   "id": "34c2087f-2b53-4e57-8119-47879f5fa0d5",
   "metadata": {},
   "source": [
    "# Begining by creating new datasets for both variables:"
   ]
  },
  {
   "cell_type": "code",
   "execution_count": 84,
   "id": "b33513d9-1022-473e-a9a1-787fe19dc7f9",
   "metadata": {},
   "outputs": [],
   "source": [
    "new_quarterly_balance_sheet_transposed_df_sorted['Quarterly_Avg_Ratio']=new_quarterly_balance_sheet_transposed_df_sorted['Ratio_Quarterly'].mean()"
   ]
  },
  {
   "cell_type": "code",
   "execution_count": 85,
   "id": "3b6aaa91-8f15-4b85-a8c7-3ecb7842e574",
   "metadata": {},
   "outputs": [
    {
     "data": {
      "text/html": [
       "<div>\n",
       "<style scoped>\n",
       "    .dataframe tbody tr th:only-of-type {\n",
       "        vertical-align: middle;\n",
       "    }\n",
       "\n",
       "    .dataframe tbody tr th {\n",
       "        vertical-align: top;\n",
       "    }\n",
       "\n",
       "    .dataframe thead th {\n",
       "        text-align: right;\n",
       "    }\n",
       "</style>\n",
       "<table border=\"1\" class=\"dataframe\">\n",
       "  <thead>\n",
       "    <tr style=\"text-align: right;\">\n",
       "      <th></th>\n",
       "      <th>Quarter</th>\n",
       "      <th>Quarterly_Avg_Ratio</th>\n",
       "    </tr>\n",
       "  </thead>\n",
       "  <tbody>\n",
       "    <tr>\n",
       "      <th>3</th>\n",
       "      <td>2024-09-30</td>\n",
       "      <td>0.207861</td>\n",
       "    </tr>\n",
       "    <tr>\n",
       "      <th>2</th>\n",
       "      <td>2024-12-31</td>\n",
       "      <td>0.207861</td>\n",
       "    </tr>\n",
       "    <tr>\n",
       "      <th>1</th>\n",
       "      <td>2025-03-31</td>\n",
       "      <td>0.207861</td>\n",
       "    </tr>\n",
       "    <tr>\n",
       "      <th>0</th>\n",
       "      <td>2025-06-30</td>\n",
       "      <td>0.207861</td>\n",
       "    </tr>\n",
       "  </tbody>\n",
       "</table>\n",
       "</div>"
      ],
      "text/plain": [
       "     Quarter  Quarterly_Avg_Ratio\n",
       "3 2024-09-30             0.207861\n",
       "2 2024-12-31             0.207861\n",
       "1 2025-03-31             0.207861\n",
       "0 2025-06-30             0.207861"
      ]
     },
     "execution_count": 85,
     "metadata": {},
     "output_type": "execute_result"
    }
   ],
   "source": [
    "new_quarterly_balance_sheet_transposed_df_sorted[['Quarter','Quarterly_Avg_Ratio']]"
   ]
  },
  {
   "cell_type": "markdown",
   "id": "516fa204-198a-4c0e-b424-cd9f404b4226",
   "metadata": {},
   "source": [
    "# Filtering the DataFrame to Match a Fiscal Year Period:"
   ]
  },
  {
   "cell_type": "code",
   "execution_count": 86,
   "id": "7f080c4a-6738-4629-8c2f-2990e7014630",
   "metadata": {},
   "outputs": [],
   "source": [
    "Ratio_Annual_df_Jul_2024_to_Jun_2025=Ratio_Annual_df_Jun_2024_to_Jun_2025.drop(index=1)"
   ]
  },
  {
   "cell_type": "code",
   "execution_count": 87,
   "id": "70cee7ea-0767-430c-b8e1-0436e3841c50",
   "metadata": {},
   "outputs": [
    {
     "data": {
      "text/html": [
       "<div>\n",
       "<style scoped>\n",
       "    .dataframe tbody tr th:only-of-type {\n",
       "        vertical-align: middle;\n",
       "    }\n",
       "\n",
       "    .dataframe tbody tr th {\n",
       "        vertical-align: top;\n",
       "    }\n",
       "\n",
       "    .dataframe thead th {\n",
       "        text-align: right;\n",
       "    }\n",
       "</style>\n",
       "<table border=\"1\" class=\"dataframe\">\n",
       "  <thead>\n",
       "    <tr style=\"text-align: right;\">\n",
       "      <th></th>\n",
       "      <th>Year</th>\n",
       "      <th>Ratio_Annual</th>\n",
       "    </tr>\n",
       "  </thead>\n",
       "  <tbody>\n",
       "    <tr>\n",
       "      <th>0</th>\n",
       "      <td>2025-06-30</td>\n",
       "      <td>0.196321</td>\n",
       "    </tr>\n",
       "  </tbody>\n",
       "</table>\n",
       "</div>"
      ],
      "text/plain": [
       "        Year  Ratio_Annual\n",
       "0 2025-06-30      0.196321"
      ]
     },
     "execution_count": 87,
     "metadata": {},
     "output_type": "execute_result"
    }
   ],
   "source": [
    "Ratio_Annual_df_Jul_2024_to_Jun_2025[['Year','Ratio_Annual']]"
   ]
  },
  {
   "cell_type": "markdown",
   "id": "6e7008ed-49c9-4946-8e39-5ffea0d976df",
   "metadata": {},
   "source": [
    "# Merging DataFrames with pandas by using the pandas' merge method:"
   ]
  },
  {
   "cell_type": "code",
   "execution_count": 88,
   "id": "ae73c469-9c23-43b7-ba87-ea23aed0c8b0",
   "metadata": {},
   "outputs": [],
   "source": [
    "mrg_comparison=pd.merge(new_quarterly_balance_sheet_transposed_df_sorted,Ratio_Annual_df_Jul_2024_to_Jun_2025,left_index=True,right_index=True)"
   ]
  },
  {
   "cell_type": "code",
   "execution_count": 89,
   "id": "bc718d34-c40c-49d1-8ba3-7615a2154e62",
   "metadata": {},
   "outputs": [
    {
     "data": {
      "text/html": [
       "<div>\n",
       "<style scoped>\n",
       "    .dataframe tbody tr th:only-of-type {\n",
       "        vertical-align: middle;\n",
       "    }\n",
       "\n",
       "    .dataframe tbody tr th {\n",
       "        vertical-align: top;\n",
       "    }\n",
       "\n",
       "    .dataframe thead th {\n",
       "        text-align: right;\n",
       "    }\n",
       "</style>\n",
       "<table border=\"1\" class=\"dataframe\">\n",
       "  <thead>\n",
       "    <tr style=\"text-align: right;\">\n",
       "      <th></th>\n",
       "      <th>Quarter</th>\n",
       "      <th>Accounts Payable_x</th>\n",
       "      <th>Current Liabilities_x</th>\n",
       "      <th>Accounts Payable Percentage Change</th>\n",
       "      <th>Current Liabilities Percentage Change</th>\n",
       "      <th>Ratio_Quarterly</th>\n",
       "      <th>Max_x</th>\n",
       "      <th>Min_x</th>\n",
       "      <th>Annual_AP_from_Qtr_df</th>\n",
       "      <th>Quarterly_Avg_AP</th>\n",
       "      <th>Annual_CL_from_Qtr_df</th>\n",
       "      <th>Quarterly_Avg_CL</th>\n",
       "      <th>Quarterly_Averages_Ratio</th>\n",
       "      <th>Quarterly_Avg_Ratio</th>\n",
       "      <th>Year</th>\n",
       "      <th>Accounts Payable_y</th>\n",
       "      <th>Current Liabilities_y</th>\n",
       "      <th>Ratio_Annual</th>\n",
       "      <th>Max_y</th>\n",
       "      <th>Min_y</th>\n",
       "    </tr>\n",
       "  </thead>\n",
       "  <tbody>\n",
       "    <tr>\n",
       "      <th>0</th>\n",
       "      <td>2025-06-30</td>\n",
       "      <td>2.772400e+10</td>\n",
       "      <td>1.412180e+11</td>\n",
       "      <td>5.615238</td>\n",
       "      <td>23.651997</td>\n",
       "      <td>0.196321</td>\n",
       "      <td>0.229848</td>\n",
       "      <td>0.196321</td>\n",
       "      <td>9.935000e+10</td>\n",
       "      <td>0.279054</td>\n",
       "      <td>4.795060e+11</td>\n",
       "      <td>0.294507</td>\n",
       "      <td>0.947528</td>\n",
       "      <td>0.207861</td>\n",
       "      <td>2025-06-30</td>\n",
       "      <td>2.772400e+10</td>\n",
       "      <td>1.412180e+11</td>\n",
       "      <td>0.196321</td>\n",
       "      <td>0.196321</td>\n",
       "      <td>0.175566</td>\n",
       "    </tr>\n",
       "  </tbody>\n",
       "</table>\n",
       "</div>"
      ],
      "text/plain": [
       "     Quarter  Accounts Payable_x  Current Liabilities_x  \\\n",
       "0 2025-06-30        2.772400e+10           1.412180e+11   \n",
       "\n",
       "   Accounts Payable Percentage Change  Current Liabilities Percentage Change  \\\n",
       "0                            5.615238                              23.651997   \n",
       "\n",
       "   Ratio_Quarterly     Max_x     Min_x  Annual_AP_from_Qtr_df  \\\n",
       "0         0.196321  0.229848  0.196321           9.935000e+10   \n",
       "\n",
       "   Quarterly_Avg_AP  Annual_CL_from_Qtr_df  Quarterly_Avg_CL  \\\n",
       "0          0.279054           4.795060e+11          0.294507   \n",
       "\n",
       "   Quarterly_Averages_Ratio  Quarterly_Avg_Ratio       Year  \\\n",
       "0                  0.947528             0.207861 2025-06-30   \n",
       "\n",
       "   Accounts Payable_y  Current Liabilities_y  Ratio_Annual     Max_y     Min_y  \n",
       "0        2.772400e+10           1.412180e+11      0.196321  0.196321  0.175566  "
      ]
     },
     "execution_count": 89,
     "metadata": {},
     "output_type": "execute_result"
    }
   ],
   "source": [
    "mrg_comparison"
   ]
  },
  {
   "cell_type": "code",
   "execution_count": 90,
   "id": "0df2a73c-ef3f-43fe-98d9-2b29e19e06f4",
   "metadata": {},
   "outputs": [
    {
     "data": {
      "text/html": [
       "<div>\n",
       "<style scoped>\n",
       "    .dataframe tbody tr th:only-of-type {\n",
       "        vertical-align: middle;\n",
       "    }\n",
       "\n",
       "    .dataframe tbody tr th {\n",
       "        vertical-align: top;\n",
       "    }\n",
       "\n",
       "    .dataframe thead th {\n",
       "        text-align: right;\n",
       "    }\n",
       "</style>\n",
       "<table border=\"1\" class=\"dataframe\">\n",
       "  <thead>\n",
       "    <tr style=\"text-align: right;\">\n",
       "      <th></th>\n",
       "      <th>Ratio_Annual</th>\n",
       "      <th>Quarterly_Avg_Ratio</th>\n",
       "    </tr>\n",
       "  </thead>\n",
       "  <tbody>\n",
       "    <tr>\n",
       "      <th>0</th>\n",
       "      <td>0.196321</td>\n",
       "      <td>0.207861</td>\n",
       "    </tr>\n",
       "  </tbody>\n",
       "</table>\n",
       "</div>"
      ],
      "text/plain": [
       "   Ratio_Annual  Quarterly_Avg_Ratio\n",
       "0      0.196321             0.207861"
      ]
     },
     "execution_count": 90,
     "metadata": {},
     "output_type": "execute_result"
    }
   ],
   "source": [
    "mrg_comparison[['Ratio_Annual','Quarterly_Avg_Ratio']]"
   ]
  },
  {
   "cell_type": "markdown",
   "id": "8fad1e4a-b9df-4f39-b88d-890fde4a5956",
   "metadata": {},
   "source": [
    "# Adding a new column to calculate the Difference between Quarterly Avgerage Ratio to Annual Ratio:\n",
    "Calculating the absolute difference between the quarterly average ratio and the annual ratio."
   ]
  },
  {
   "cell_type": "code",
   "execution_count": 91,
   "id": "5f27775e-26a9-4bd9-b917-0adf9b13d053",
   "metadata": {},
   "outputs": [],
   "source": [
    "mrg_comparison['Difference']=mrg_comparison['Quarterly_Avg_Ratio']-mrg_comparison['Ratio_Annual']"
   ]
  },
  {
   "cell_type": "code",
   "execution_count": 92,
   "id": "091da3ae-2403-479c-89aa-401aee128ebb",
   "metadata": {},
   "outputs": [
    {
     "data": {
      "text/html": [
       "<div>\n",
       "<style scoped>\n",
       "    .dataframe tbody tr th:only-of-type {\n",
       "        vertical-align: middle;\n",
       "    }\n",
       "\n",
       "    .dataframe tbody tr th {\n",
       "        vertical-align: top;\n",
       "    }\n",
       "\n",
       "    .dataframe thead th {\n",
       "        text-align: right;\n",
       "    }\n",
       "</style>\n",
       "<table border=\"1\" class=\"dataframe\">\n",
       "  <thead>\n",
       "    <tr style=\"text-align: right;\">\n",
       "      <th></th>\n",
       "      <th>Ratio_Annual</th>\n",
       "      <th>Quarterly_Avg_Ratio</th>\n",
       "      <th>Difference</th>\n",
       "    </tr>\n",
       "  </thead>\n",
       "  <tbody>\n",
       "    <tr>\n",
       "      <th>0</th>\n",
       "      <td>0.196321</td>\n",
       "      <td>0.207861</td>\n",
       "      <td>0.011541</td>\n",
       "    </tr>\n",
       "  </tbody>\n",
       "</table>\n",
       "</div>"
      ],
      "text/plain": [
       "   Ratio_Annual  Quarterly_Avg_Ratio  Difference\n",
       "0      0.196321             0.207861    0.011541"
      ]
     },
     "execution_count": 92,
     "metadata": {},
     "output_type": "execute_result"
    }
   ],
   "source": [
    "mrg_comparison[['Ratio_Annual','Quarterly_Avg_Ratio','Difference']]"
   ]
  },
  {
   "cell_type": "markdown",
   "id": "086706d4-2eac-47ec-bdae-44fa2facf3e2",
   "metadata": {},
   "source": [
    "# Analysis of the Difference between Quarterly Avgerage Ratio to Annual Ratio: \n",
    "A small difference (±0.01) between the quarterly average ratio and the annual ratio indicates strong alignment between the two. suggesting consistent performance throughout the year. In contrast, a larger discrepancy may point to significant fluctuations over the course of the year or a notable shift in the final quarter."
   ]
  },
  {
   "cell_type": "markdown",
   "id": "b0c4eb6d-aaab-4ca6-a40f-8fad4bd38a67",
   "metadata": {},
   "source": [
    "# Adding a new column to calculate the Percentage Difference between quarterly and annual figures:\n",
    "Calculating the relative (percentage) difference between the quarterly average ratio and the annual ratio, scaled by the annual ratio."
   ]
  },
  {
   "cell_type": "code",
   "execution_count": 93,
   "id": "58f1c8df-9278-4fa5-80d6-d026f26e1f08",
   "metadata": {},
   "outputs": [],
   "source": [
    "mrg_comparison['Percent_Diff']=((mrg_comparison['Quarterly_Avg_Ratio']-mrg_comparison['Ratio_Annual'])/\n",
    "                                mrg_comparison['Ratio_Annual'])*100"
   ]
  },
  {
   "cell_type": "code",
   "execution_count": 94,
   "id": "db77ad4f-d2e9-4c91-95c7-e39ec3984c73",
   "metadata": {},
   "outputs": [
    {
     "data": {
      "text/html": [
       "<div>\n",
       "<style scoped>\n",
       "    .dataframe tbody tr th:only-of-type {\n",
       "        vertical-align: middle;\n",
       "    }\n",
       "\n",
       "    .dataframe tbody tr th {\n",
       "        vertical-align: top;\n",
       "    }\n",
       "\n",
       "    .dataframe thead th {\n",
       "        text-align: right;\n",
       "    }\n",
       "</style>\n",
       "<table border=\"1\" class=\"dataframe\">\n",
       "  <thead>\n",
       "    <tr style=\"text-align: right;\">\n",
       "      <th></th>\n",
       "      <th>Ratio_Annual</th>\n",
       "      <th>Quarterly_Avg_Ratio</th>\n",
       "      <th>Difference</th>\n",
       "      <th>Percent_Diff</th>\n",
       "    </tr>\n",
       "  </thead>\n",
       "  <tbody>\n",
       "    <tr>\n",
       "      <th>0</th>\n",
       "      <td>0.196321</td>\n",
       "      <td>0.207861</td>\n",
       "      <td>0.011541</td>\n",
       "      <td>5.87847</td>\n",
       "    </tr>\n",
       "  </tbody>\n",
       "</table>\n",
       "</div>"
      ],
      "text/plain": [
       "   Ratio_Annual  Quarterly_Avg_Ratio  Difference  Percent_Diff\n",
       "0      0.196321             0.207861    0.011541       5.87847"
      ]
     },
     "execution_count": 94,
     "metadata": {},
     "output_type": "execute_result"
    }
   ],
   "source": [
    "mrg_comparison[['Ratio_Annual','Quarterly_Avg_Ratio','Difference','Percent_Diff']]"
   ]
  },
  {
   "cell_type": "markdown",
   "id": "6475dbf8-1049-49a5-83df-a7569f11fe74",
   "metadata": {},
   "source": [
    "# Analysis of the Percentage Difference between quarterly and annual figures:\n",
    "A positive value suggests the quarterly average is greater than the annual average, though a 5.87% difference indicates only a modest gap."
   ]
  },
  {
   "cell_type": "markdown",
   "id": "66227832-f495-4ea5-93e1-687c442d805e",
   "metadata": {},
   "source": [
    "# Due to data limitations, I am restricted to a small range of visualizations.\n",
    "Since the dataset contains only one row, unfortunately, I’m unable to create more insightful visualizations like pairplots, boxplots, heatmaps, or histplots with Seaborn, as these techniques require multiple rows to provide meaningful insights."
   ]
  },
  {
   "cell_type": "markdown",
   "id": "d8674aaa-693f-49e7-bfec-67c809e93eef",
   "metadata": {},
   "source": [
    "# Creating a Series from the mrg_comparison DataFrame to visualize the relationship between an Annual Ratio and Quarterly Average Ratio using a Pie Chart in Matplotlib."
   ]
  },
  {
   "cell_type": "code",
   "execution_count": 95,
   "id": "7f7df5e4-9842-4d66-8ca7-8517c3002261",
   "metadata": {},
   "outputs": [],
   "source": [
    "mrg_comparison_transposed=mrg_comparison.T"
   ]
  },
  {
   "cell_type": "code",
   "execution_count": 96,
   "id": "44d8c6ff-7569-489c-b5c7-90fc2a8c4b0d",
   "metadata": {},
   "outputs": [],
   "source": [
    "mrg_comparison_transposed_Ratio=mrg_comparison_transposed.loc[['Ratio_Annual','Quarterly_Avg_Ratio']]"
   ]
  },
  {
   "cell_type": "code",
   "execution_count": 97,
   "id": "4535ee77-0518-4096-86ca-4acaed663894",
   "metadata": {},
   "outputs": [],
   "source": [
    "mrg_comparison_transposed_Series=mrg_comparison_transposed_Ratio[0]"
   ]
  },
  {
   "cell_type": "code",
   "execution_count": 102,
   "id": "2a77a6f3-40ce-4e2c-8275-56d2e2667ffc",
   "metadata": {},
   "outputs": [
    {
     "data": {
      "text/plain": [
       "Ratio_Annual           0.196321\n",
       "Quarterly_Avg_Ratio    0.207861\n",
       "Name: 0, dtype: object"
      ]
     },
     "execution_count": 102,
     "metadata": {},
     "output_type": "execute_result"
    }
   ],
   "source": [
    "mrg_comparison_transposed_Series"
   ]
  },
  {
   "cell_type": "markdown",
   "id": "83d404ea-f580-4f4f-8a0f-e0150d4073e3",
   "metadata": {},
   "source": [
    "# Rearranging the dataset to compare the absolute and percentage differences between the Quarterly Average Ratio and the Annual Ratio using a Seaborn Barplot:"
   ]
  },
  {
   "cell_type": "code",
   "execution_count": 103,
   "id": "9002a711-cda2-4ad2-a5ae-8efd2d0ef237",
   "metadata": {},
   "outputs": [],
   "source": [
    "mrg_comparison_transposed_Ratio_Diff=mrg_comparison_transposed=mrg_comparison[['Difference']]"
   ]
  },
  {
   "cell_type": "code",
   "execution_count": 104,
   "id": "81f9b7f3-a4b5-47b6-b1ab-80d270f8c88c",
   "metadata": {},
   "outputs": [],
   "source": [
    "mrg_comparison_transposed_Ratio_Diff=mrg_comparison_transposed_Ratio_Diff.reset_index().rename(columns={'index':'Absolute Difference'})"
   ]
  },
  {
   "cell_type": "code",
   "execution_count": 109,
   "id": "8964ef60-1636-4cd1-a12a-4bf87729257e",
   "metadata": {},
   "outputs": [],
   "source": [
    "mrg_comparison_transposed_Ratio_Percent_Diff=mrg_comparison[['Percent_Diff']]"
   ]
  },
  {
   "cell_type": "code",
   "execution_count": 110,
   "id": "783bbae8-b087-4292-896d-9cb1b0e00774",
   "metadata": {},
   "outputs": [],
   "source": [
    "mrg_comparison_transposed_Ratio_Percent_Diff=mrg_comparison_transposed_Ratio_Percent_Diff.reset_index().rename(\n",
    "    columns={'index':'Percentage Difference'})"
   ]
  },
  {
   "cell_type": "code",
   "execution_count": 111,
   "id": "ba1c585f-fd0a-4183-98fb-d9e0f0de1fc5",
   "metadata": {},
   "outputs": [
    {
     "data": {
      "text/html": [
       "<div>\n",
       "<style scoped>\n",
       "    .dataframe tbody tr th:only-of-type {\n",
       "        vertical-align: middle;\n",
       "    }\n",
       "\n",
       "    .dataframe tbody tr th {\n",
       "        vertical-align: top;\n",
       "    }\n",
       "\n",
       "    .dataframe thead th {\n",
       "        text-align: right;\n",
       "    }\n",
       "</style>\n",
       "<table border=\"1\" class=\"dataframe\">\n",
       "  <thead>\n",
       "    <tr style=\"text-align: right;\">\n",
       "      <th></th>\n",
       "      <th>Percentage Difference</th>\n",
       "      <th>Percent_Diff</th>\n",
       "    </tr>\n",
       "  </thead>\n",
       "  <tbody>\n",
       "    <tr>\n",
       "      <th>0</th>\n",
       "      <td>0</td>\n",
       "      <td>5.87847</td>\n",
       "    </tr>\n",
       "  </tbody>\n",
       "</table>\n",
       "</div>"
      ],
      "text/plain": [
       "   Percentage Difference  Percent_Diff\n",
       "0                      0       5.87847"
      ]
     },
     "execution_count": 111,
     "metadata": {},
     "output_type": "execute_result"
    }
   ],
   "source": [
    "mrg_comparison_transposed_Ratio_Percent_Diff"
   ]
  },
  {
   "cell_type": "markdown",
   "id": "24ee7cc1-432a-494a-bc06-ec9c892be82f",
   "metadata": {},
   "source": [
    "# Visualizations comparing the proportions of the Annual Ratio and the Quarterly Average Ratio alongside the Difference between them expressed as both an absolute and percentage difference:"
   ]
  },
  {
   "cell_type": "code",
   "execution_count": 112,
   "id": "6fd9e4fc-913d-4747-be04-7ebb2f541c11",
   "metadata": {},
   "outputs": [
    {
     "data": {
      "image/png": "[encoded data removed]",
      "text/plain": [
       "<Figure size 800x800 with 3 Axes>"
      ]
     },
     "metadata": {},
     "output_type": "display_data"
    }
   ],
   "source": [
    "plt.figure(figsize=(8,8))\n",
    "plt.style.use('seaborn-v0_8')\n",
    "plt.suptitle('Comparison of Annual and Quarterly Average Ratios and Differences', fontsize=20,color='#134686')\n",
    "\n",
    "plt.subplot(2,2,1)\n",
    "plt.style.use('seaborn-v0_8')\n",
    "plt.pie(mrg_comparison_transposed_Series,labels=mrg_comparison_transposed_Series.index,autopct='%1.2f%%',textprops={'fontsize':12},\n",
    "        colors=['#78B9B5','#0F828C'],startangle=25,explode=(0,0.05),shadow=True)\n",
    "plt.axis('equal')\n",
    "plt.title('Relationship Between Annual Ratio and Quarterly Average Ratio',fontsize=12,color='#476EAE')\n",
    "\n",
    "plt.subplot(2,2,3)\n",
    "sb.barplot(x='Absolute Difference',y='Difference',data=mrg_comparison_transposed_Ratio_Diff,width=0.25,color='#90D1CA')\n",
    "plt.title('Absolute Difference',fontsize=12,color='#476EAE')\n",
    "for i,j in zip(mrg_comparison_transposed_Ratio_Diff['Absolute Difference'], mrg_comparison_transposed_Ratio_Diff['Difference']):\n",
    "    plt.annotate(str(round(j,4)),xy=(i,j),fontsize=15,ha='center',fontweight='bold')\n",
    "plt.xlabel('Absolute Difference',fontsize=12,color='#134686')\n",
    "plt.xticks([0],labels=[' '])\n",
    "plt.ylabel('Difference',fontsize=12,color='#134686')\n",
    "plt.ylim(0,0.014) \n",
    "\n",
    "plt.subplot(2,2,4)\n",
    "sb.barplot(x='Percentage Difference',y='Percent_Diff',data=mrg_comparison_transposed_Ratio_Percent_Diff,width=0.25,color='#129990')\n",
    "plt.title('Percentage Difference',fontsize=12,color='#476EAE')\n",
    "for i,j in zip(mrg_comparison_transposed_Ratio_Percent_Diff['Percentage Difference'],mrg_comparison_transposed_Ratio_Percent_Diff['Percent_Diff']):\n",
    "    plt.annotate(f'{j:.2f}%',xy=(i,j),fontsize=15,ha='center',fontweight='bold')\n",
    "plt.xlabel('Percentage Difference',fontsize=12,color='#134686')\n",
    "plt.xticks([0],labels=[' '])\n",
    "plt.ylabel('% Difference',fontsize=12,color='#134686')\n",
    "plt.yticks([0,1,2,3,4,5,6,7],labels=['0','1%','2%','3%','4%','5%','6%','7%'])\n",
    "\n",
    "plt.tight_layout()\n",
    "plt.show()"
   ]
  },
  {
   "cell_type": "markdown",
   "id": "232861a8-de69-42f7-92cb-ae2877856bf8",
   "metadata": {},
   "source": [
    "# Analysis of the Relationship between Annual Ratio and the Quarterly Average Ratio:\n",
    "The Quarterly Average Ratio is slightly higher than the Annual Ratio, suggesting that quarterly performance modestly exceeds the yearly average. Overall, the data reflects a stable trend throughout the year.  \n",
    "The small Absolute Difference (0.0115) between the quarterly average ratio and the annual ratio indicates strong alignment between the two, suggesting consistent performance throughout the year.  \n",
    "A positive value of Perecentage Difference (5.88%) suggests the quarterly average is greater than the annual average, though a 5.88% difference indicates only a modest gap."
   ]
  },
  {
   "cell_type": "markdown",
   "id": "db40e7dc-85b6-4028-9c13-9a81c9e68cb4",
   "metadata": {},
   "source": [
    "# Project Analysis Conclusions:\n",
    "The analysis revealed that accounts payable consistently represent a stable and significant portion of current liabilities across both quarterly and annual reports, indicating a predictable pattern in the company’s short-term obligations.  \n",
    "The quarterly data showed noticeable seasonal fluctuations in accounts payable relative to current liabilities, with certain quarters exhibiting higher ratios, likely reflecting cyclical business activities such as inventory buildup or year-end adjustments.  \n",
    "In some periods, the quarterly averages differed notably from the annual reports, reflecting that quarterly data is more responsive to short-term fluctuations, whereas annual data averages out these variations producing a more stable and narrower range. This insight highlights the importance of considering both perspectives for a comprehensive financial analysis.  \n",
    "The comparison between quarterly averages and annual figures demonstrated a close alignment, suggesting that the company’s quarterly reporting accurately reflects its yearly financial position without significant discrepancies.  \n",
    "Understanding the proportion and trends of accounts payable within current liabilities can assist management in optimizing working capital, improving cash flow management, and planning for seasonal variations in payment obligations."
   ]
  },
  {
   "cell_type": "markdown",
   "id": "f76b3ec0-c5f2-4d87-9ff9-938d79f2e80b",
   "metadata": {},
   "source": [
    "# Suggestions for future research directions and recommended actions:\n",
    "Is there a correlation between Accounts Payable and revenue or operating income?  \n",
    "How do Accounts Payable and Current Liabilities respond to changes in a company's operating income or revenue?  \n",
    "How do Microsoft’s Accounts Payable and Current Liabilities compare to those of other tech companies (Apple, Google, Amazon)?"
   ]
  },
  {
   "cell_type": "code",
   "execution_count": null,
   "id": "3640db12-bc68-458d-b471-4c0cf1413d5b",
   "metadata": {},
   "outputs": [],
   "source": []
  }
 ],
 "metadata": {
  "kernelspec": {
   "display_name": "Python 3 (ipykernel)",
   "language": "python",
   "name": "python3"
  },
  "language_info": {
   "codemirror_mode": {
    "name": "ipython",
    "version": 3
   },
   "file_extension": ".py",
   "mimetype": "text/x-python",
   "name": "python",
   "nbconvert_exporter": "python",
   "pygments_lexer": "ipython3",
   "version": "3.13.3"
  }
 },
 "nbformat": 4,
 "nbformat_minor": 5
}
